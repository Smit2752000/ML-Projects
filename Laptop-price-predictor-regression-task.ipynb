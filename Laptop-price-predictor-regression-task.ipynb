{
 "cells": [
  {
   "cell_type": "code",
   "execution_count": 1,
   "id": "678ff035-5d08-4953-ad5f-0034a507679e",
   "metadata": {},
   "outputs": [],
   "source": [
    "import numpy as np\n",
    "import pandas as pd"
   ]
  },
  {
   "cell_type": "code",
   "execution_count": 11,
   "id": "4cba1ba6-efbf-450f-a57f-4ac4771659fe",
   "metadata": {},
   "outputs": [],
   "source": [
    "df=pd.read_csv('laptop_data.csv')"
   ]
  },
  {
   "cell_type": "code",
   "execution_count": 12,
   "id": "999b5720-440b-4ade-931f-7193a4e640c2",
   "metadata": {},
   "outputs": [],
   "source": [
    "df=df.drop('Unnamed: 0',axis=1)"
   ]
  },
  {
   "cell_type": "code",
   "execution_count": 23,
   "id": "6d506419-7bed-4dba-8bbd-504edc068488",
   "metadata": {},
   "outputs": [],
   "source": [
    "df=df.drop_duplicates()"
   ]
  },
  {
   "cell_type": "code",
   "execution_count": 25,
   "id": "c98bd05a-0a9d-4229-808e-3ef5dda9ae48",
   "metadata": {},
   "outputs": [
    {
     "data": {
      "text/plain": [
       "0"
      ]
     },
     "execution_count": 25,
     "metadata": {},
     "output_type": "execute_result"
    }
   ],
   "source": [
    "df.duplicated().sum()"
   ]
  },
  {
   "cell_type": "code",
   "execution_count": 30,
   "id": "dc88c515-e89a-4198-a56a-2f09c3a3aec5",
   "metadata": {},
   "outputs": [
    {
     "name": "stderr",
     "output_type": "stream",
     "text": [
      "C:\\Users\\Public\\Documents\\Wondershare\\CreatorTemp\\ipykernel_14324\\3051295623.py:1: SettingWithCopyWarning: \n",
      "A value is trying to be set on a copy of a slice from a DataFrame.\n",
      "Try using .loc[row_indexer,col_indexer] = value instead\n",
      "\n",
      "See the caveats in the documentation: https://pandas.pydata.org/pandas-docs/stable/user_guide/indexing.html#returning-a-view-versus-a-copy\n",
      "  df['Ram']=df['Ram'].str.replace('GB','')\n"
     ]
    }
   ],
   "source": [
    "df['Ram']=df['Ram'].str.replace('GB','')"
   ]
  },
  {
   "cell_type": "code",
   "execution_count": 33,
   "id": "ddf1215b-e8f7-43dd-8383-989e5599a0cc",
   "metadata": {},
   "outputs": [
    {
     "name": "stderr",
     "output_type": "stream",
     "text": [
      "C:\\Users\\Public\\Documents\\Wondershare\\CreatorTemp\\ipykernel_14324\\3348609528.py:1: SettingWithCopyWarning: \n",
      "A value is trying to be set on a copy of a slice from a DataFrame.\n",
      "Try using .loc[row_indexer,col_indexer] = value instead\n",
      "\n",
      "See the caveats in the documentation: https://pandas.pydata.org/pandas-docs/stable/user_guide/indexing.html#returning-a-view-versus-a-copy\n",
      "  df['Ram']=df['Ram'].astype(int)\n"
     ]
    }
   ],
   "source": [
    "df['Ram']=df['Ram'].astype(int)"
   ]
  },
  {
   "cell_type": "code",
   "execution_count": 38,
   "id": "63da61c8-251b-4513-a484-22fdbcb5f0a6",
   "metadata": {},
   "outputs": [],
   "source": [
    "df['Weight']=df['Weight'].str.replace('kg','')"
   ]
  },
  {
   "cell_type": "code",
   "execution_count": 40,
   "id": "f08cc961-cdc6-4fe5-8cdd-3c56d296e100",
   "metadata": {},
   "outputs": [],
   "source": [
    "df['Weight']=df['Weight'].astype(float)"
   ]
  },
  {
   "cell_type": "code",
   "execution_count": 42,
   "id": "4c3a32fe-51d6-46e4-8d76-b4621e927507",
   "metadata": {},
   "outputs": [
    {
     "data": {
      "text/html": [
       "<div>\n",
       "<style scoped>\n",
       "    .dataframe tbody tr th:only-of-type {\n",
       "        vertical-align: middle;\n",
       "    }\n",
       "\n",
       "    .dataframe tbody tr th {\n",
       "        vertical-align: top;\n",
       "    }\n",
       "\n",
       "    .dataframe thead th {\n",
       "        text-align: right;\n",
       "    }\n",
       "</style>\n",
       "<table border=\"1\" class=\"dataframe\">\n",
       "  <thead>\n",
       "    <tr style=\"text-align: right;\">\n",
       "      <th></th>\n",
       "      <th>Company</th>\n",
       "      <th>TypeName</th>\n",
       "      <th>Inches</th>\n",
       "      <th>ScreenResolution</th>\n",
       "      <th>Cpu</th>\n",
       "      <th>Ram</th>\n",
       "      <th>Memory</th>\n",
       "      <th>Gpu</th>\n",
       "      <th>OpSys</th>\n",
       "      <th>Weight</th>\n",
       "      <th>Price</th>\n",
       "    </tr>\n",
       "  </thead>\n",
       "  <tbody>\n",
       "    <tr>\n",
       "      <th>0</th>\n",
       "      <td>Apple</td>\n",
       "      <td>Ultrabook</td>\n",
       "      <td>13.3</td>\n",
       "      <td>IPS Panel Retina Display 2560x1600</td>\n",
       "      <td>Intel Core i5 2.3GHz</td>\n",
       "      <td>8</td>\n",
       "      <td>128GB SSD</td>\n",
       "      <td>Intel Iris Plus Graphics 640</td>\n",
       "      <td>macOS</td>\n",
       "      <td>1.37</td>\n",
       "      <td>71378.6832</td>\n",
       "    </tr>\n",
       "    <tr>\n",
       "      <th>1</th>\n",
       "      <td>Apple</td>\n",
       "      <td>Ultrabook</td>\n",
       "      <td>13.3</td>\n",
       "      <td>1440x900</td>\n",
       "      <td>Intel Core i5 1.8GHz</td>\n",
       "      <td>8</td>\n",
       "      <td>128GB Flash Storage</td>\n",
       "      <td>Intel HD Graphics 6000</td>\n",
       "      <td>macOS</td>\n",
       "      <td>1.34</td>\n",
       "      <td>47895.5232</td>\n",
       "    </tr>\n",
       "    <tr>\n",
       "      <th>2</th>\n",
       "      <td>HP</td>\n",
       "      <td>Notebook</td>\n",
       "      <td>15.6</td>\n",
       "      <td>Full HD 1920x1080</td>\n",
       "      <td>Intel Core i5 7200U 2.5GHz</td>\n",
       "      <td>8</td>\n",
       "      <td>256GB SSD</td>\n",
       "      <td>Intel HD Graphics 620</td>\n",
       "      <td>No OS</td>\n",
       "      <td>1.86</td>\n",
       "      <td>30636.0000</td>\n",
       "    </tr>\n",
       "    <tr>\n",
       "      <th>3</th>\n",
       "      <td>Apple</td>\n",
       "      <td>Ultrabook</td>\n",
       "      <td>15.4</td>\n",
       "      <td>IPS Panel Retina Display 2880x1800</td>\n",
       "      <td>Intel Core i7 2.7GHz</td>\n",
       "      <td>16</td>\n",
       "      <td>512GB SSD</td>\n",
       "      <td>AMD Radeon Pro 455</td>\n",
       "      <td>macOS</td>\n",
       "      <td>1.83</td>\n",
       "      <td>135195.3360</td>\n",
       "    </tr>\n",
       "    <tr>\n",
       "      <th>4</th>\n",
       "      <td>Apple</td>\n",
       "      <td>Ultrabook</td>\n",
       "      <td>13.3</td>\n",
       "      <td>IPS Panel Retina Display 2560x1600</td>\n",
       "      <td>Intel Core i5 3.1GHz</td>\n",
       "      <td>8</td>\n",
       "      <td>256GB SSD</td>\n",
       "      <td>Intel Iris Plus Graphics 650</td>\n",
       "      <td>macOS</td>\n",
       "      <td>1.37</td>\n",
       "      <td>96095.8080</td>\n",
       "    </tr>\n",
       "  </tbody>\n",
       "</table>\n",
       "</div>"
      ],
      "text/plain": [
       "  Company   TypeName  Inches                    ScreenResolution  \\\n",
       "0   Apple  Ultrabook    13.3  IPS Panel Retina Display 2560x1600   \n",
       "1   Apple  Ultrabook    13.3                            1440x900   \n",
       "2      HP   Notebook    15.6                   Full HD 1920x1080   \n",
       "3   Apple  Ultrabook    15.4  IPS Panel Retina Display 2880x1800   \n",
       "4   Apple  Ultrabook    13.3  IPS Panel Retina Display 2560x1600   \n",
       "\n",
       "                          Cpu  Ram               Memory  \\\n",
       "0        Intel Core i5 2.3GHz    8            128GB SSD   \n",
       "1        Intel Core i5 1.8GHz    8  128GB Flash Storage   \n",
       "2  Intel Core i5 7200U 2.5GHz    8            256GB SSD   \n",
       "3        Intel Core i7 2.7GHz   16            512GB SSD   \n",
       "4        Intel Core i5 3.1GHz    8            256GB SSD   \n",
       "\n",
       "                            Gpu  OpSys  Weight        Price  \n",
       "0  Intel Iris Plus Graphics 640  macOS    1.37   71378.6832  \n",
       "1        Intel HD Graphics 6000  macOS    1.34   47895.5232  \n",
       "2         Intel HD Graphics 620  No OS    1.86   30636.0000  \n",
       "3            AMD Radeon Pro 455  macOS    1.83  135195.3360  \n",
       "4  Intel Iris Plus Graphics 650  macOS    1.37   96095.8080  "
      ]
     },
     "execution_count": 42,
     "metadata": {},
     "output_type": "execute_result"
    }
   ],
   "source": [
    "df.head()"
   ]
  },
  {
   "cell_type": "code",
   "execution_count": 43,
   "id": "98895c5f-c160-4df8-a7de-7fc143831c43",
   "metadata": {},
   "outputs": [],
   "source": [
    "import seaborn as sns"
   ]
  },
  {
   "cell_type": "code",
   "execution_count": 44,
   "id": "d53eaf3c-23e4-4fb2-be53-d377a0bd5ecd",
   "metadata": {},
   "outputs": [
    {
     "name": "stderr",
     "output_type": "stream",
     "text": [
      "C:\\Users\\Public\\Documents\\Wondershare\\CreatorTemp\\ipykernel_14324\\834922981.py:1: UserWarning: \n",
      "\n",
      "`distplot` is a deprecated function and will be removed in seaborn v0.14.0.\n",
      "\n",
      "Please adapt your code to use either `displot` (a figure-level function with\n",
      "similar flexibility) or `histplot` (an axes-level function for histograms).\n",
      "\n",
      "For a guide to updating your code to use the new functions, please see\n",
      "https://gist.github.com/mwaskom/de44147ed2974457ad6372750bbe5751\n",
      "\n",
      "  sns.distplot(df['Price'])\n"
     ]
    },
    {
     "data": {
      "text/plain": [
       "<Axes: xlabel='Price', ylabel='Density'>"
      ]
     },
     "execution_count": 44,
     "metadata": {},
     "output_type": "execute_result"
    },
    {
     "data": {
      "image/png": "[encoded data removed]",
      "text/plain": [
       "<Figure size 640x480 with 1 Axes>"
      ]
     },
     "metadata": {},
     "output_type": "display_data"
    }
   ],
   "source": [
    "sns.distplot(df['Price'])"
   ]
  },
  {
   "cell_type": "code",
   "execution_count": 52,
   "id": "3ed6cc98-611f-46d9-b8fd-4a4afef36f40",
   "metadata": {},
   "outputs": [
    {
     "data": {
      "text/plain": [
       "<Axes: xlabel='Company'>"
      ]
     },
     "execution_count": 52,
     "metadata": {},
     "output_type": "execute_result"
    },
    {
     "data": {
      "image/png": "[encoded data removed]",
      "text/plain": [
       "<Figure size 640x480 with 1 Axes>"
      ]
     },
     "metadata": {},
     "output_type": "display_data"
    }
   ],
   "source": [
    "df['Company'].value_counts().plot(kind='bar')"
   ]
  },
  {
   "cell_type": "code",
   "execution_count": 55,
   "id": "433cd3a5-df69-44d3-840f-9954b6cffe39",
   "metadata": {},
   "outputs": [],
   "source": [
    "import matplotlib.pyplot as plt"
   ]
  },
  {
   "cell_type": "code",
   "execution_count": 59,
   "id": "bd73546a-84bd-413f-a1a8-23a728948bac",
   "metadata": {},
   "outputs": [
    {
     "data": {
      "image/png": "[encoded data removed]",
      "text/plain": [
       "<Figure size 640x480 with 1 Axes>"
      ]
     },
     "metadata": {},
     "output_type": "display_data"
    }
   ],
   "source": [
    "sns.barplot(x=df['Company'],y=df['Price'])\n",
    "plt.xticks(rotation='vertical')\n",
    "plt.show()"
   ]
  },
  {
   "cell_type": "code",
   "execution_count": 61,
   "id": "a7ae24a2-5ddc-4287-a087-ba36876cfe48",
   "metadata": {},
   "outputs": [
    {
     "data": {
      "text/plain": [
       "<Axes: xlabel='TypeName'>"
      ]
     },
     "execution_count": 61,
     "metadata": {},
     "output_type": "execute_result"
    },
    {
     "data": {
      "image/png": "[encoded data removed]",
      "text/plain": [
       "<Figure size 640x480 with 1 Axes>"
      ]
     },
     "metadata": {},
     "output_type": "display_data"
    }
   ],
   "source": [
    "df['TypeName'].value_counts().plot(kind='bar')"
   ]
  },
  {
   "cell_type": "code",
   "execution_count": 62,
   "id": "34975021-bca2-48e6-a608-632f7ee70cde",
   "metadata": {},
   "outputs": [
    {
     "data": {
      "image/png": "[encoded data removed]",
      "text/plain": [
       "<Figure size 640x480 with 1 Axes>"
      ]
     },
     "metadata": {},
     "output_type": "display_data"
    }
   ],
   "source": [
    "sns.barplot(x=df['TypeName'],y=df['Price'])\n",
    "plt.show()"
   ]
  },
  {
   "cell_type": "code",
   "execution_count": 65,
   "id": "dfa12530-ad5f-4a58-a3bf-029ba3152dd7",
   "metadata": {},
   "outputs": [
    {
     "data": {
      "image/png": "[encoded data removed]",
      "text/plain": [
       "<Figure size 640x480 with 1 Axes>"
      ]
     },
     "metadata": {},
     "output_type": "display_data"
    }
   ],
   "source": [
    "sns.scatterplot(x=df['Inches'],y=df['Price'])\n",
    "plt.show()"
   ]
  },
  {
   "cell_type": "code",
   "execution_count": 84,
   "id": "e929f8cd-63c6-4f55-9e48-4f6c26bad0e1",
   "metadata": {},
   "outputs": [
    {
     "data": {
      "text/html": [
       "<div>\n",
       "<style scoped>\n",
       "    .dataframe tbody tr th:only-of-type {\n",
       "        vertical-align: middle;\n",
       "    }\n",
       "\n",
       "    .dataframe tbody tr th {\n",
       "        vertical-align: top;\n",
       "    }\n",
       "\n",
       "    .dataframe thead th {\n",
       "        text-align: right;\n",
       "    }\n",
       "</style>\n",
       "<table border=\"1\" class=\"dataframe\">\n",
       "  <thead>\n",
       "    <tr style=\"text-align: right;\">\n",
       "      <th></th>\n",
       "      <th>Company</th>\n",
       "      <th>TypeName</th>\n",
       "      <th>Inches</th>\n",
       "      <th>ScreenResolution</th>\n",
       "      <th>Cpu</th>\n",
       "      <th>Ram</th>\n",
       "      <th>Memory</th>\n",
       "      <th>Gpu</th>\n",
       "      <th>OpSys</th>\n",
       "      <th>Weight</th>\n",
       "      <th>Price</th>\n",
       "      <th>x_res</th>\n",
       "      <th>y_res</th>\n",
       "    </tr>\n",
       "  </thead>\n",
       "  <tbody>\n",
       "    <tr>\n",
       "      <th>726</th>\n",
       "      <td>Dell</td>\n",
       "      <td>Notebook</td>\n",
       "      <td>15.6</td>\n",
       "      <td>Full HD 1920x1080</td>\n",
       "      <td>Intel Core i5 8250U 1.6GHz</td>\n",
       "      <td>8</td>\n",
       "      <td>128GB SSD +  1TB HDD</td>\n",
       "      <td>AMD Radeon 530</td>\n",
       "      <td>Windows 10</td>\n",
       "      <td>2.20</td>\n",
       "      <td>38308.320</td>\n",
       "      <td>Full HD 1920</td>\n",
       "      <td>1080</td>\n",
       "    </tr>\n",
       "    <tr>\n",
       "      <th>930</th>\n",
       "      <td>Lenovo</td>\n",
       "      <td>Notebook</td>\n",
       "      <td>15.6</td>\n",
       "      <td>1366x768</td>\n",
       "      <td>Intel Pentium Quad Core N4200 1.1GHz</td>\n",
       "      <td>4</td>\n",
       "      <td>1TB HDD</td>\n",
       "      <td>Intel HD Graphics 505</td>\n",
       "      <td>Windows 10</td>\n",
       "      <td>2.20</td>\n",
       "      <td>16463.520</td>\n",
       "      <td>1366</td>\n",
       "      <td>768</td>\n",
       "    </tr>\n",
       "    <tr>\n",
       "      <th>639</th>\n",
       "      <td>Dell</td>\n",
       "      <td>Notebook</td>\n",
       "      <td>15.6</td>\n",
       "      <td>4K Ultra HD / Touchscreen 3840x2160</td>\n",
       "      <td>Intel Core i7 7700HQ 2.8GHz</td>\n",
       "      <td>16</td>\n",
       "      <td>1TB SSD</td>\n",
       "      <td>Nvidia GeForce GTX 1050</td>\n",
       "      <td>Windows 10</td>\n",
       "      <td>2.06</td>\n",
       "      <td>127818.720</td>\n",
       "      <td>4K Ultra HD / Touchscreen 3840</td>\n",
       "      <td>2160</td>\n",
       "    </tr>\n",
       "    <tr>\n",
       "      <th>438</th>\n",
       "      <td>Lenovo</td>\n",
       "      <td>Ultrabook</td>\n",
       "      <td>14.0</td>\n",
       "      <td>2560x1440</td>\n",
       "      <td>Intel Core i7 7500U 2.7GHz</td>\n",
       "      <td>24</td>\n",
       "      <td>512GB SSD</td>\n",
       "      <td>Intel HD Graphics 620</td>\n",
       "      <td>Windows 10</td>\n",
       "      <td>1.32</td>\n",
       "      <td>126912.960</td>\n",
       "      <td>2560</td>\n",
       "      <td>1440</td>\n",
       "    </tr>\n",
       "    <tr>\n",
       "      <th>85</th>\n",
       "      <td>Dell</td>\n",
       "      <td>Gaming</td>\n",
       "      <td>15.6</td>\n",
       "      <td>IPS Panel Full HD 1920x1080</td>\n",
       "      <td>Intel Core i7 7700HQ 2.8GHz</td>\n",
       "      <td>16</td>\n",
       "      <td>128GB SSD +  1TB HDD</td>\n",
       "      <td>Nvidia GeForce GTX 1050 Ti</td>\n",
       "      <td>Windows 10</td>\n",
       "      <td>2.65</td>\n",
       "      <td>71874.720</td>\n",
       "      <td>IPS Panel Full HD 1920</td>\n",
       "      <td>1080</td>\n",
       "    </tr>\n",
       "    <tr>\n",
       "      <th>883</th>\n",
       "      <td>Lenovo</td>\n",
       "      <td>Notebook</td>\n",
       "      <td>15.6</td>\n",
       "      <td>IPS Panel Full HD 1920x1080</td>\n",
       "      <td>Intel Core i7 6500U 2.5GHz</td>\n",
       "      <td>8</td>\n",
       "      <td>1TB HDD</td>\n",
       "      <td>Nvidia GeForce 940MX</td>\n",
       "      <td>Windows 10</td>\n",
       "      <td>2.20</td>\n",
       "      <td>35644.320</td>\n",
       "      <td>IPS Panel Full HD 1920</td>\n",
       "      <td>1080</td>\n",
       "    </tr>\n",
       "    <tr>\n",
       "      <th>652</th>\n",
       "      <td>Dell</td>\n",
       "      <td>Ultrabook</td>\n",
       "      <td>13.3</td>\n",
       "      <td>Full HD 1920x1080</td>\n",
       "      <td>Intel Core i5 8250U 1.6GHz</td>\n",
       "      <td>8</td>\n",
       "      <td>256GB SSD</td>\n",
       "      <td>Intel UHD Graphics 620</td>\n",
       "      <td>Windows 10</td>\n",
       "      <td>1.20</td>\n",
       "      <td>77250.672</td>\n",
       "      <td>Full HD 1920</td>\n",
       "      <td>1080</td>\n",
       "    </tr>\n",
       "    <tr>\n",
       "      <th>484</th>\n",
       "      <td>Lenovo</td>\n",
       "      <td>Notebook</td>\n",
       "      <td>15.6</td>\n",
       "      <td>1366x768</td>\n",
       "      <td>Intel Core i3 6006U 2.0GHz</td>\n",
       "      <td>4</td>\n",
       "      <td>128GB SSD</td>\n",
       "      <td>Intel HD Graphics 520</td>\n",
       "      <td>Windows 10</td>\n",
       "      <td>2.30</td>\n",
       "      <td>30103.200</td>\n",
       "      <td>1366</td>\n",
       "      <td>768</td>\n",
       "    </tr>\n",
       "    <tr>\n",
       "      <th>1136</th>\n",
       "      <td>HP</td>\n",
       "      <td>Workstation</td>\n",
       "      <td>17.3</td>\n",
       "      <td>IPS Panel Full HD 1920x1080</td>\n",
       "      <td>Intel Core i7 6700HQ 2.6GHz</td>\n",
       "      <td>8</td>\n",
       "      <td>256GB SSD</td>\n",
       "      <td>Nvidia Quadro M3000M</td>\n",
       "      <td>Windows 7</td>\n",
       "      <td>3.00</td>\n",
       "      <td>210424.032</td>\n",
       "      <td>IPS Panel Full HD 1920</td>\n",
       "      <td>1080</td>\n",
       "    </tr>\n",
       "    <tr>\n",
       "      <th>580</th>\n",
       "      <td>Mediacom</td>\n",
       "      <td>Notebook</td>\n",
       "      <td>14.0</td>\n",
       "      <td>IPS Panel Full HD 1920x1080</td>\n",
       "      <td>Intel Celeron Quad Core N3450 1.1GHz</td>\n",
       "      <td>4</td>\n",
       "      <td>32GB SSD</td>\n",
       "      <td>Intel HD Graphics 500</td>\n",
       "      <td>Windows 10</td>\n",
       "      <td>1.45</td>\n",
       "      <td>20725.920</td>\n",
       "      <td>IPS Panel Full HD 1920</td>\n",
       "      <td>1080</td>\n",
       "    </tr>\n",
       "  </tbody>\n",
       "</table>\n",
       "</div>"
      ],
      "text/plain": [
       "       Company     TypeName  Inches                     ScreenResolution  \\\n",
       "726       Dell     Notebook    15.6                    Full HD 1920x1080   \n",
       "930     Lenovo     Notebook    15.6                             1366x768   \n",
       "639       Dell     Notebook    15.6  4K Ultra HD / Touchscreen 3840x2160   \n",
       "438     Lenovo    Ultrabook    14.0                            2560x1440   \n",
       "85        Dell       Gaming    15.6          IPS Panel Full HD 1920x1080   \n",
       "883     Lenovo     Notebook    15.6          IPS Panel Full HD 1920x1080   \n",
       "652       Dell    Ultrabook    13.3                    Full HD 1920x1080   \n",
       "484     Lenovo     Notebook    15.6                             1366x768   \n",
       "1136        HP  Workstation    17.3          IPS Panel Full HD 1920x1080   \n",
       "580   Mediacom     Notebook    14.0          IPS Panel Full HD 1920x1080   \n",
       "\n",
       "                                       Cpu  Ram                Memory  \\\n",
       "726             Intel Core i5 8250U 1.6GHz    8  128GB SSD +  1TB HDD   \n",
       "930   Intel Pentium Quad Core N4200 1.1GHz    4               1TB HDD   \n",
       "639            Intel Core i7 7700HQ 2.8GHz   16               1TB SSD   \n",
       "438             Intel Core i7 7500U 2.7GHz   24             512GB SSD   \n",
       "85             Intel Core i7 7700HQ 2.8GHz   16  128GB SSD +  1TB HDD   \n",
       "883             Intel Core i7 6500U 2.5GHz    8               1TB HDD   \n",
       "652             Intel Core i5 8250U 1.6GHz    8             256GB SSD   \n",
       "484             Intel Core i3 6006U 2.0GHz    4             128GB SSD   \n",
       "1136           Intel Core i7 6700HQ 2.6GHz    8             256GB SSD   \n",
       "580   Intel Celeron Quad Core N3450 1.1GHz    4              32GB SSD   \n",
       "\n",
       "                             Gpu       OpSys  Weight       Price  \\\n",
       "726               AMD Radeon 530  Windows 10    2.20   38308.320   \n",
       "930        Intel HD Graphics 505  Windows 10    2.20   16463.520   \n",
       "639      Nvidia GeForce GTX 1050  Windows 10    2.06  127818.720   \n",
       "438        Intel HD Graphics 620  Windows 10    1.32  126912.960   \n",
       "85    Nvidia GeForce GTX 1050 Ti  Windows 10    2.65   71874.720   \n",
       "883         Nvidia GeForce 940MX  Windows 10    2.20   35644.320   \n",
       "652       Intel UHD Graphics 620  Windows 10    1.20   77250.672   \n",
       "484        Intel HD Graphics 520  Windows 10    2.30   30103.200   \n",
       "1136        Nvidia Quadro M3000M   Windows 7    3.00  210424.032   \n",
       "580        Intel HD Graphics 500  Windows 10    1.45   20725.920   \n",
       "\n",
       "                               x_res y_res  \n",
       "726                     Full HD 1920  1080  \n",
       "930                             1366   768  \n",
       "639   4K Ultra HD / Touchscreen 3840  2160  \n",
       "438                             2560  1440  \n",
       "85            IPS Panel Full HD 1920  1080  \n",
       "883           IPS Panel Full HD 1920  1080  \n",
       "652                     Full HD 1920  1080  \n",
       "484                             1366   768  \n",
       "1136          IPS Panel Full HD 1920  1080  \n",
       "580           IPS Panel Full HD 1920  1080  "
      ]
     },
     "execution_count": 84,
     "metadata": {},
     "output_type": "execute_result"
    }
   ],
   "source": [
    "df.sample(10)"
   ]
  },
  {
   "cell_type": "code",
   "execution_count": null,
   "id": "1dec37b6-5af3-4a5c-a6a7-c96fc352b4d5",
   "metadata": {},
   "outputs": [],
   "source": []
  },
  {
   "cell_type": "code",
   "execution_count": 157,
   "id": "5462058c-3a2b-4566-aac1-3dac36677ac7",
   "metadata": {},
   "outputs": [],
   "source": [
    "df['touch']=df['ScreenResolution'].apply(lambda x: 1 if 'Touchscreen' in x else 0)"
   ]
  },
  {
   "cell_type": "code",
   "execution_count": 73,
   "id": "3f03cf8d-f37b-429d-9c0c-45b99cf0235b",
   "metadata": {},
   "outputs": [],
   "source": [
    "new_df=df['ScreenResolution'].str.split('x',n=1,expand=True)"
   ]
  },
  {
   "cell_type": "code",
   "execution_count": 74,
   "id": "318f39e5-c88e-4df7-af60-a11618ace344",
   "metadata": {},
   "outputs": [],
   "source": [
    "df['x_res']=new_df[0]\n",
    "df['y_res']=new_df[1]"
   ]
  },
  {
   "cell_type": "code",
   "execution_count": 79,
   "id": "e5735458-8e9c-40da-a7ec-cd220c0b2da8",
   "metadata": {},
   "outputs": [],
   "source": [
    "import re"
   ]
  },
  {
   "cell_type": "code",
   "execution_count": 88,
   "id": "d9ce0e4e-9115-40fb-ab89-f7d09f3bcc3e",
   "metadata": {},
   "outputs": [],
   "source": [
    "df['x_res']=df['x_res'].str.findall(r'(\\d{4})').apply(lambda x:x[0])"
   ]
  },
  {
   "cell_type": "code",
   "execution_count": 109,
   "id": "a1c06701-52fc-40c2-be81-ed503b27feaa",
   "metadata": {},
   "outputs": [],
   "source": [
    "df['x_res']=df['x_res'].astype(int)"
   ]
  },
  {
   "cell_type": "code",
   "execution_count": 112,
   "id": "e810e8fe-e658-4381-81bc-a3df212b54e6",
   "metadata": {},
   "outputs": [],
   "source": [
    "df['y_res']=df['y_res'].astype(int)"
   ]
  },
  {
   "cell_type": "code",
   "execution_count": 117,
   "id": "0804b98e-31dc-4341-921a-3948130c2153",
   "metadata": {},
   "outputs": [],
   "source": [
    "df['ppi']=(((df['x_res']**2)+(df['y_res']**2))**0.5/df['Inches']).astype(float)"
   ]
  },
  {
   "cell_type": "code",
   "execution_count": 149,
   "id": "1740b20c-f90a-4234-9e90-061e83ac4afc",
   "metadata": {},
   "outputs": [],
   "source": [
    "df.drop('ScreenResolution',axis=1,inplace=True)"
   ]
  },
  {
   "cell_type": "code",
   "execution_count": 132,
   "id": "e8c20d8a-52fd-4082-99cb-249c6f23434f",
   "metadata": {},
   "outputs": [],
   "source": [
    "df.drop('x_res',axis=1,inplace=True)"
   ]
  },
  {
   "cell_type": "code",
   "execution_count": 133,
   "id": "a571519a-c65b-453c-8668-e1007b6026d3",
   "metadata": {},
   "outputs": [],
   "source": [
    "df.drop('y_res',axis=1,inplace=True)"
   ]
  },
  {
   "cell_type": "code",
   "execution_count": 135,
   "id": "2fca6053-d883-4385-8bd1-5e9c84b56736",
   "metadata": {},
   "outputs": [],
   "source": [
    "df.drop('Inches',axis=1,inplace=True)"
   ]
  },
  {
   "cell_type": "code",
   "execution_count": 162,
   "id": "4b2547c6-bcea-4d57-8d2d-5f2d245401ae",
   "metadata": {},
   "outputs": [],
   "source": [
    "dff=df.select_dtypes(include=['number'])"
   ]
  },
  {
   "cell_type": "code",
   "execution_count": 164,
   "id": "a7cbccdb-21a0-4fd1-8198-ee2c8d023cce",
   "metadata": {},
   "outputs": [
    {
     "data": {
      "text/plain": [
       "Ram       0.740106\n",
       "Weight    0.212192\n",
       "Price     1.000000\n",
       "ppi       0.469539\n",
       "touch     0.188631\n",
       "Name: Price, dtype: float64"
      ]
     },
     "execution_count": 164,
     "metadata": {},
     "output_type": "execute_result"
    }
   ],
   "source": [
    "dff.corr()['Price']"
   ]
  },
  {
   "cell_type": "code",
   "execution_count": 166,
   "id": "33958bae-0af4-49a6-8a17-db95668357c2",
   "metadata": {},
   "outputs": [],
   "source": [
    "df.drop('ScreenResolution',axis=1,inplace=True)"
   ]
  },
  {
   "cell_type": "code",
   "execution_count": 167,
   "id": "767feca5-d5ee-4845-a630-951b18f9a8a1",
   "metadata": {},
   "outputs": [
    {
     "data": {
      "text/html": [
       "<div>\n",
       "<style scoped>\n",
       "    .dataframe tbody tr th:only-of-type {\n",
       "        vertical-align: middle;\n",
       "    }\n",
       "\n",
       "    .dataframe tbody tr th {\n",
       "        vertical-align: top;\n",
       "    }\n",
       "\n",
       "    .dataframe thead th {\n",
       "        text-align: right;\n",
       "    }\n",
       "</style>\n",
       "<table border=\"1\" class=\"dataframe\">\n",
       "  <thead>\n",
       "    <tr style=\"text-align: right;\">\n",
       "      <th></th>\n",
       "      <th>Company</th>\n",
       "      <th>TypeName</th>\n",
       "      <th>Cpu</th>\n",
       "      <th>Ram</th>\n",
       "      <th>Memory</th>\n",
       "      <th>Gpu</th>\n",
       "      <th>OpSys</th>\n",
       "      <th>Weight</th>\n",
       "      <th>Price</th>\n",
       "      <th>ppi</th>\n",
       "      <th>touch</th>\n",
       "    </tr>\n",
       "  </thead>\n",
       "  <tbody>\n",
       "    <tr>\n",
       "      <th>0</th>\n",
       "      <td>Apple</td>\n",
       "      <td>Ultrabook</td>\n",
       "      <td>Intel Core i5 2.3GHz</td>\n",
       "      <td>8</td>\n",
       "      <td>128GB SSD</td>\n",
       "      <td>Intel Iris Plus Graphics 640</td>\n",
       "      <td>macOS</td>\n",
       "      <td>1.37</td>\n",
       "      <td>71378.6832</td>\n",
       "      <td>226.983005</td>\n",
       "      <td>0</td>\n",
       "    </tr>\n",
       "    <tr>\n",
       "      <th>1</th>\n",
       "      <td>Apple</td>\n",
       "      <td>Ultrabook</td>\n",
       "      <td>Intel Core i5 1.8GHz</td>\n",
       "      <td>8</td>\n",
       "      <td>128GB Flash Storage</td>\n",
       "      <td>Intel HD Graphics 6000</td>\n",
       "      <td>macOS</td>\n",
       "      <td>1.34</td>\n",
       "      <td>47895.5232</td>\n",
       "      <td>127.677940</td>\n",
       "      <td>0</td>\n",
       "    </tr>\n",
       "    <tr>\n",
       "      <th>2</th>\n",
       "      <td>HP</td>\n",
       "      <td>Notebook</td>\n",
       "      <td>Intel Core i5 7200U 2.5GHz</td>\n",
       "      <td>8</td>\n",
       "      <td>256GB SSD</td>\n",
       "      <td>Intel HD Graphics 620</td>\n",
       "      <td>No OS</td>\n",
       "      <td>1.86</td>\n",
       "      <td>30636.0000</td>\n",
       "      <td>141.211998</td>\n",
       "      <td>0</td>\n",
       "    </tr>\n",
       "    <tr>\n",
       "      <th>3</th>\n",
       "      <td>Apple</td>\n",
       "      <td>Ultrabook</td>\n",
       "      <td>Intel Core i7 2.7GHz</td>\n",
       "      <td>16</td>\n",
       "      <td>512GB SSD</td>\n",
       "      <td>AMD Radeon Pro 455</td>\n",
       "      <td>macOS</td>\n",
       "      <td>1.83</td>\n",
       "      <td>135195.3360</td>\n",
       "      <td>220.534624</td>\n",
       "      <td>0</td>\n",
       "    </tr>\n",
       "    <tr>\n",
       "      <th>4</th>\n",
       "      <td>Apple</td>\n",
       "      <td>Ultrabook</td>\n",
       "      <td>Intel Core i5 3.1GHz</td>\n",
       "      <td>8</td>\n",
       "      <td>256GB SSD</td>\n",
       "      <td>Intel Iris Plus Graphics 650</td>\n",
       "      <td>macOS</td>\n",
       "      <td>1.37</td>\n",
       "      <td>96095.8080</td>\n",
       "      <td>226.983005</td>\n",
       "      <td>0</td>\n",
       "    </tr>\n",
       "  </tbody>\n",
       "</table>\n",
       "</div>"
      ],
      "text/plain": [
       "  Company   TypeName                         Cpu  Ram               Memory  \\\n",
       "0   Apple  Ultrabook        Intel Core i5 2.3GHz    8            128GB SSD   \n",
       "1   Apple  Ultrabook        Intel Core i5 1.8GHz    8  128GB Flash Storage   \n",
       "2      HP   Notebook  Intel Core i5 7200U 2.5GHz    8            256GB SSD   \n",
       "3   Apple  Ultrabook        Intel Core i7 2.7GHz   16            512GB SSD   \n",
       "4   Apple  Ultrabook        Intel Core i5 3.1GHz    8            256GB SSD   \n",
       "\n",
       "                            Gpu  OpSys  Weight        Price         ppi  touch  \n",
       "0  Intel Iris Plus Graphics 640  macOS    1.37   71378.6832  226.983005      0  \n",
       "1        Intel HD Graphics 6000  macOS    1.34   47895.5232  127.677940      0  \n",
       "2         Intel HD Graphics 620  No OS    1.86   30636.0000  141.211998      0  \n",
       "3            AMD Radeon Pro 455  macOS    1.83  135195.3360  220.534624      0  \n",
       "4  Intel Iris Plus Graphics 650  macOS    1.37   96095.8080  226.983005      0  "
      ]
     },
     "execution_count": 167,
     "metadata": {},
     "output_type": "execute_result"
    }
   ],
   "source": [
    "df.head()"
   ]
  },
  {
   "cell_type": "code",
   "execution_count": 171,
   "id": "721444d9-905f-4a3a-82a8-b8bf8742fef6",
   "metadata": {},
   "outputs": [],
   "source": [
    "df['Cpu name']=df['Cpu'].apply(lambda x:' '.join(x.split()[0:3]))"
   ]
  },
  {
   "cell_type": "code",
   "execution_count": 172,
   "id": "e59e79ad-2f29-4800-af47-26e4bb4be18d",
   "metadata": {},
   "outputs": [
    {
     "data": {
      "text/plain": [
       "0            Intel Core i5\n",
       "1            Intel Core i5\n",
       "2            Intel Core i5\n",
       "3            Intel Core i7\n",
       "4            Intel Core i5\n",
       "               ...        \n",
       "1269         Intel Core i7\n",
       "1270         Intel Core i7\n",
       "1271         Intel Core i7\n",
       "1272    Intel Celeron Dual\n",
       "1273         Intel Core i7\n",
       "Name: Cpu name, Length: 1274, dtype: object"
      ]
     },
     "execution_count": 172,
     "metadata": {},
     "output_type": "execute_result"
    }
   ],
   "source": [
    "df['Cpu name']"
   ]
  },
  {
   "cell_type": "code",
   "execution_count": 173,
   "id": "56f2e222-9a7c-4f27-a756-c919c321a71a",
   "metadata": {},
   "outputs": [],
   "source": [
    "def pro(i):\n",
    "    if i == 'Intel Core i5' or i=='Intel Core i7' or i=='Intel Core i3':\n",
    "        return i\n",
    "    else:\n",
    "        if i.split()[0]=='Intel':\n",
    "            return 'Other Intel'\n",
    "        else:\n",
    "            return 'AMD'"
   ]
  },
  {
   "cell_type": "code",
   "execution_count": 175,
   "id": "8ce6f306-54d7-4703-a326-91c826e05e19",
   "metadata": {},
   "outputs": [],
   "source": [
    "df['Cpu name']=df['Cpu name'].apply(pro)"
   ]
  },
  {
   "cell_type": "code",
   "execution_count": 180,
   "id": "2b35ef03-bcb8-4abf-8f4a-4683f8a4a25c",
   "metadata": {},
   "outputs": [
    {
     "data": {
      "text/plain": [
       "<Axes: xlabel='Cpu name', ylabel='Price'>"
      ]
     },
     "execution_count": 180,
     "metadata": {},
     "output_type": "execute_result"
    },
    {
     "data": {
      "image/png": "[encoded data removed]",
      "text/plain": [
       "<Figure size 640x480 with 1 Axes>"
      ]
     },
     "metadata": {},
     "output_type": "display_data"
    }
   ],
   "source": [
    "sns.barplot(x=df['Cpu name'],y=df['Price'])"
   ]
  },
  {
   "cell_type": "code",
   "execution_count": 182,
   "id": "ffaf6001-5722-4ad6-a53e-0e7f042bcb6b",
   "metadata": {},
   "outputs": [],
   "source": [
    "df.drop('Cpu',axis=1,inplace=True)"
   ]
  },
  {
   "cell_type": "code",
   "execution_count": 183,
   "id": "f123c057-802a-442c-898c-fafed37d1c2a",
   "metadata": {},
   "outputs": [
    {
     "data": {
      "text/html": [
       "<div>\n",
       "<style scoped>\n",
       "    .dataframe tbody tr th:only-of-type {\n",
       "        vertical-align: middle;\n",
       "    }\n",
       "\n",
       "    .dataframe tbody tr th {\n",
       "        vertical-align: top;\n",
       "    }\n",
       "\n",
       "    .dataframe thead th {\n",
       "        text-align: right;\n",
       "    }\n",
       "</style>\n",
       "<table border=\"1\" class=\"dataframe\">\n",
       "  <thead>\n",
       "    <tr style=\"text-align: right;\">\n",
       "      <th></th>\n",
       "      <th>Company</th>\n",
       "      <th>TypeName</th>\n",
       "      <th>Ram</th>\n",
       "      <th>Memory</th>\n",
       "      <th>Gpu</th>\n",
       "      <th>OpSys</th>\n",
       "      <th>Weight</th>\n",
       "      <th>Price</th>\n",
       "      <th>ppi</th>\n",
       "      <th>touch</th>\n",
       "      <th>Cpu name</th>\n",
       "    </tr>\n",
       "  </thead>\n",
       "  <tbody>\n",
       "    <tr>\n",
       "      <th>0</th>\n",
       "      <td>Apple</td>\n",
       "      <td>Ultrabook</td>\n",
       "      <td>8</td>\n",
       "      <td>128GB SSD</td>\n",
       "      <td>Intel Iris Plus Graphics 640</td>\n",
       "      <td>macOS</td>\n",
       "      <td>1.37</td>\n",
       "      <td>71378.6832</td>\n",
       "      <td>226.983005</td>\n",
       "      <td>0</td>\n",
       "      <td>Intel Core i5</td>\n",
       "    </tr>\n",
       "    <tr>\n",
       "      <th>1</th>\n",
       "      <td>Apple</td>\n",
       "      <td>Ultrabook</td>\n",
       "      <td>8</td>\n",
       "      <td>128GB Flash Storage</td>\n",
       "      <td>Intel HD Graphics 6000</td>\n",
       "      <td>macOS</td>\n",
       "      <td>1.34</td>\n",
       "      <td>47895.5232</td>\n",
       "      <td>127.677940</td>\n",
       "      <td>0</td>\n",
       "      <td>Intel Core i5</td>\n",
       "    </tr>\n",
       "    <tr>\n",
       "      <th>2</th>\n",
       "      <td>HP</td>\n",
       "      <td>Notebook</td>\n",
       "      <td>8</td>\n",
       "      <td>256GB SSD</td>\n",
       "      <td>Intel HD Graphics 620</td>\n",
       "      <td>No OS</td>\n",
       "      <td>1.86</td>\n",
       "      <td>30636.0000</td>\n",
       "      <td>141.211998</td>\n",
       "      <td>0</td>\n",
       "      <td>Intel Core i5</td>\n",
       "    </tr>\n",
       "    <tr>\n",
       "      <th>3</th>\n",
       "      <td>Apple</td>\n",
       "      <td>Ultrabook</td>\n",
       "      <td>16</td>\n",
       "      <td>512GB SSD</td>\n",
       "      <td>AMD Radeon Pro 455</td>\n",
       "      <td>macOS</td>\n",
       "      <td>1.83</td>\n",
       "      <td>135195.3360</td>\n",
       "      <td>220.534624</td>\n",
       "      <td>0</td>\n",
       "      <td>Intel Core i7</td>\n",
       "    </tr>\n",
       "    <tr>\n",
       "      <th>4</th>\n",
       "      <td>Apple</td>\n",
       "      <td>Ultrabook</td>\n",
       "      <td>8</td>\n",
       "      <td>256GB SSD</td>\n",
       "      <td>Intel Iris Plus Graphics 650</td>\n",
       "      <td>macOS</td>\n",
       "      <td>1.37</td>\n",
       "      <td>96095.8080</td>\n",
       "      <td>226.983005</td>\n",
       "      <td>0</td>\n",
       "      <td>Intel Core i5</td>\n",
       "    </tr>\n",
       "  </tbody>\n",
       "</table>\n",
       "</div>"
      ],
      "text/plain": [
       "  Company   TypeName  Ram               Memory                           Gpu  \\\n",
       "0   Apple  Ultrabook    8            128GB SSD  Intel Iris Plus Graphics 640   \n",
       "1   Apple  Ultrabook    8  128GB Flash Storage        Intel HD Graphics 6000   \n",
       "2      HP   Notebook    8            256GB SSD         Intel HD Graphics 620   \n",
       "3   Apple  Ultrabook   16            512GB SSD            AMD Radeon Pro 455   \n",
       "4   Apple  Ultrabook    8            256GB SSD  Intel Iris Plus Graphics 650   \n",
       "\n",
       "   OpSys  Weight        Price         ppi  touch       Cpu name  \n",
       "0  macOS    1.37   71378.6832  226.983005      0  Intel Core i5  \n",
       "1  macOS    1.34   47895.5232  127.677940      0  Intel Core i5  \n",
       "2  No OS    1.86   30636.0000  141.211998      0  Intel Core i5  \n",
       "3  macOS    1.83  135195.3360  220.534624      0  Intel Core i7  \n",
       "4  macOS    1.37   96095.8080  226.983005      0  Intel Core i5  "
      ]
     },
     "execution_count": 183,
     "metadata": {},
     "output_type": "execute_result"
    }
   ],
   "source": [
    "df.head()"
   ]
  },
  {
   "cell_type": "code",
   "execution_count": 185,
   "id": "928c2353-cb27-4470-8dc1-45fa8bfa33d8",
   "metadata": {},
   "outputs": [],
   "source": [
    "df['Memory']=df['Memory'].astype(str).replace('\\\\.?','',regex=True)"
   ]
  },
  {
   "cell_type": "code",
   "execution_count": 186,
   "id": "2e426415-4e90-4281-bbfe-c170a28725f3",
   "metadata": {},
   "outputs": [],
   "source": [
    "df['Memory']=df['Memory'].str.replace('GB','')\n",
    "df['Memory']=df['Memory'].str.replace('TB','000')"
   ]
  },
  {
   "cell_type": "code",
   "execution_count": 203,
   "id": "270170e0-71ff-48cf-997f-58332fdb1ff7",
   "metadata": {},
   "outputs": [
    {
     "data": {
      "text/plain": [
       "785    256 SSD +  1000 HDD\n",
       "Name: Memory, dtype: object"
      ]
     },
     "execution_count": 203,
     "metadata": {},
     "output_type": "execute_result"
    }
   ],
   "source": [
    "df['Memory'].sample()"
   ]
  },
  {
   "cell_type": "code",
   "execution_count": 204,
   "id": "f1207a9b-a59c-43e9-8c36-413cfe2bd1f5",
   "metadata": {},
   "outputs": [],
   "source": [
    "new_m=df['Memory'].str.split('+',n=1,expand=True)"
   ]
  },
  {
   "cell_type": "code",
   "execution_count": 212,
   "id": "568cdffd-2d5f-4306-9797-ec5f75da5834",
   "metadata": {},
   "outputs": [],
   "source": [
    "df['1st']=new_m[0]"
   ]
  },
  {
   "cell_type": "code",
   "execution_count": 219,
   "id": "29bc0dc2-003f-4538-b811-81eac0a18126",
   "metadata": {},
   "outputs": [
    {
     "data": {
      "text/plain": [
       "2nd\n",
       "1000 HDD        185\n",
       "2000 HDD         15\n",
       "256 SSD           3\n",
       "500 HDD           2\n",
       "10000 Hybrid      2\n",
       "512 SSD           1\n",
       "Name: count, dtype: int64"
      ]
     },
     "execution_count": 219,
     "metadata": {},
     "output_type": "execute_result"
    }
   ],
   "source": [
    "df['2nd'].value_counts()"
   ]
  },
  {
   "cell_type": "code",
   "execution_count": 215,
   "id": "d3e0ffb3-54ea-45f1-889b-3f2b4a0f8602",
   "metadata": {},
   "outputs": [],
   "source": [
    "df['1st']=df['1st'].str.strip()"
   ]
  },
  {
   "cell_type": "code",
   "execution_count": 216,
   "id": "a6512532-5cf4-4ac9-b0bc-39e124f06b2c",
   "metadata": {},
   "outputs": [],
   "source": [
    "df['2nd']=new_m[1]"
   ]
  },
  {
   "cell_type": "code",
   "execution_count": 220,
   "id": "88f400df-d47a-400c-bc3e-f555091f628a",
   "metadata": {},
   "outputs": [],
   "source": [
    "df['hdd1']=df['1st'].apply(lambda x: 1 if 'HDD' in x else 0)\n",
    "df['ssd1']=df['1st'].apply(lambda x: 1 if 'SSD' in x else 0)\n",
    "df['flash1']=df['1st'].apply(lambda x: 1 if 'Flash Storage' in x else 0)\n",
    "df['hy1']=df['1st'].apply(lambda x: 1 if 'Hybrid' in x else 0)"
   ]
  },
  {
   "cell_type": "code",
   "execution_count": 229,
   "id": "f7d8d405-9a51-44e3-9490-47774dacafae",
   "metadata": {},
   "outputs": [],
   "source": [
    "df['1st']=df['1st'].str.replace(r'\\D','',regex=True)"
   ]
  },
  {
   "cell_type": "code",
   "execution_count": 232,
   "id": "9e10007e-39e6-45d5-aba0-9332d9182dd4",
   "metadata": {},
   "outputs": [],
   "source": [
    "df['2nd'].fillna('0',inplace=True)"
   ]
  },
  {
   "cell_type": "code",
   "execution_count": 233,
   "id": "d0095449-2f45-4fec-b844-f35f71917be5",
   "metadata": {},
   "outputs": [],
   "source": [
    "df['hdd2']=df['2nd'].apply(lambda x: 1 if 'HDD' in x else 0)\n",
    "df['ssd2']=df['2nd'].apply(lambda x: 1 if 'SSD' in x else 0)\n",
    "df['flash2']=df['2nd'].apply(lambda x: 1 if 'Flash Storage' in x else 0)\n",
    "df['hy2']=df['2nd'].apply(lambda x: 1 if 'Hybrid' in x else 0)"
   ]
  },
  {
   "cell_type": "code",
   "execution_count": 235,
   "id": "775acb8e-4fd5-46d0-b1c6-0ce793c3d1dd",
   "metadata": {},
   "outputs": [],
   "source": [
    "df['2nd']=df['2nd'].str.replace(r'\\D','',regex=True)"
   ]
  },
  {
   "cell_type": "code",
   "execution_count": 239,
   "id": "5beb521d-0bf4-493d-bfa8-f92193d5f8c6",
   "metadata": {},
   "outputs": [],
   "source": [
    "df['1st']=df['1st'].astype(int)\n",
    "df['2nd']=df['2nd'].astype(int)"
   ]
  },
  {
   "cell_type": "code",
   "execution_count": 242,
   "id": "2c25eb56-5d67-4efd-8f7e-31e9a04589b2",
   "metadata": {},
   "outputs": [],
   "source": [
    "df['HDD']=(df['1st']*df['hdd1']+df['2nd']*df['hdd2'])\n",
    "df['SSD']=(df['1st']*df['ssd1']+df['2nd']*df['ssd2'])\n",
    "df['FLASH']=(df['1st']*df['flash1']+df['2nd']*df['flash2'])\n",
    "df['HYBRID']=(df['1st']*df['hy1']+df['2nd']*df['hy2'])"
   ]
  },
  {
   "cell_type": "code",
   "execution_count": 256,
   "id": "bc3d0204-caf2-45b1-8ecf-b4d0040659c9",
   "metadata": {},
   "outputs": [
    {
     "data": {
      "text/plain": [
       "Company                         MSI\n",
       "TypeName                     Gaming\n",
       "Ram                              16\n",
       "Memory          256 SSD +  1000 HDD\n",
       "Gpu         Nvidia GeForce GTX 1060\n",
       "OpSys                    Windows 10\n",
       "Weight                         2.94\n",
       "Price                      96916.32\n",
       "ppi                      141.211998\n",
       "touch                             0\n",
       "Cpu name              Intel Core i7\n",
       "1st                             256\n",
       "2nd                            1000\n",
       "hdd1                              0\n",
       "ssd1                              1\n",
       "flash1                            0\n",
       "hy1                               0\n",
       "hdd2                              1\n",
       "ssd2                              0\n",
       "flash2                            0\n",
       "hy2                               0\n",
       "HDD                            1000\n",
       "SSD                             256\n",
       "FLASH                             0\n",
       "HYBRID                            0\n",
       "Name: 1059, dtype: object"
      ]
     },
     "execution_count": 256,
     "metadata": {},
     "output_type": "execute_result"
    }
   ],
   "source": [
    "df.loc[1059]"
   ]
  },
  {
   "cell_type": "code",
   "execution_count": 259,
   "id": "32f2c162-95da-4159-bc95-0a42b5ab5b78",
   "metadata": {},
   "outputs": [],
   "source": [
    "df.drop(columns=['1st','2nd','hdd1','hdd2','ssd2','ssd1','flash1','flash2','hy1','hy2'],inplace=True)"
   ]
  },
  {
   "cell_type": "code",
   "execution_count": 264,
   "id": "e2b7c089-c453-414b-b955-eec067e514d6",
   "metadata": {},
   "outputs": [],
   "source": [
    "df.drop('Memory',axis=1,inplace=True)"
   ]
  },
  {
   "cell_type": "code",
   "execution_count": 269,
   "id": "995ccb60-3ccd-417a-ae29-0972f6d05015",
   "metadata": {},
   "outputs": [],
   "source": [
    "dff=df.select_dtypes(include='number')"
   ]
  },
  {
   "cell_type": "code",
   "execution_count": 271,
   "id": "c5b7315f-4b73-4de5-9230-57e3e766d25c",
   "metadata": {},
   "outputs": [
    {
     "data": {
      "text/plain": [
       "Ram       0.740106\n",
       "Weight    0.212192\n",
       "Price     1.000000\n",
       "ppi       0.469539\n",
       "touch     0.188631\n",
       "HDD      -0.095288\n",
       "SSD       0.669957\n",
       "FLASH    -0.037176\n",
       "HYBRID    0.023662\n",
       "Name: Price, dtype: float64"
      ]
     },
     "execution_count": 271,
     "metadata": {},
     "output_type": "execute_result"
    }
   ],
   "source": [
    "dff.corr()['Price']"
   ]
  },
  {
   "cell_type": "code",
   "execution_count": 272,
   "id": "cbe6cb68-94e1-4752-a881-e32a5139bc91",
   "metadata": {},
   "outputs": [],
   "source": [
    "df.drop(columns=['HYBRID','FLASH'],inplace=True)"
   ]
  },
  {
   "cell_type": "code",
   "execution_count": 275,
   "id": "73cc79f0-1f19-41ac-8355-71f054510661",
   "metadata": {},
   "outputs": [
    {
     "data": {
      "text/html": [
       "<div>\n",
       "<style scoped>\n",
       "    .dataframe tbody tr th:only-of-type {\n",
       "        vertical-align: middle;\n",
       "    }\n",
       "\n",
       "    .dataframe tbody tr th {\n",
       "        vertical-align: top;\n",
       "    }\n",
       "\n",
       "    .dataframe thead th {\n",
       "        text-align: right;\n",
       "    }\n",
       "</style>\n",
       "<table border=\"1\" class=\"dataframe\">\n",
       "  <thead>\n",
       "    <tr style=\"text-align: right;\">\n",
       "      <th></th>\n",
       "      <th>Company</th>\n",
       "      <th>TypeName</th>\n",
       "      <th>Ram</th>\n",
       "      <th>Gpu</th>\n",
       "      <th>OpSys</th>\n",
       "      <th>Weight</th>\n",
       "      <th>Price</th>\n",
       "      <th>ppi</th>\n",
       "      <th>touch</th>\n",
       "      <th>Cpu name</th>\n",
       "      <th>HDD</th>\n",
       "      <th>SSD</th>\n",
       "    </tr>\n",
       "  </thead>\n",
       "  <tbody>\n",
       "    <tr>\n",
       "      <th>0</th>\n",
       "      <td>Apple</td>\n",
       "      <td>Ultrabook</td>\n",
       "      <td>8</td>\n",
       "      <td>Intel Iris Plus Graphics 640</td>\n",
       "      <td>macOS</td>\n",
       "      <td>1.37</td>\n",
       "      <td>71378.6832</td>\n",
       "      <td>226.983005</td>\n",
       "      <td>0</td>\n",
       "      <td>Intel Core i5</td>\n",
       "      <td>0</td>\n",
       "      <td>128</td>\n",
       "    </tr>\n",
       "    <tr>\n",
       "      <th>1</th>\n",
       "      <td>Apple</td>\n",
       "      <td>Ultrabook</td>\n",
       "      <td>8</td>\n",
       "      <td>Intel HD Graphics 6000</td>\n",
       "      <td>macOS</td>\n",
       "      <td>1.34</td>\n",
       "      <td>47895.5232</td>\n",
       "      <td>127.677940</td>\n",
       "      <td>0</td>\n",
       "      <td>Intel Core i5</td>\n",
       "      <td>0</td>\n",
       "      <td>0</td>\n",
       "    </tr>\n",
       "    <tr>\n",
       "      <th>2</th>\n",
       "      <td>HP</td>\n",
       "      <td>Notebook</td>\n",
       "      <td>8</td>\n",
       "      <td>Intel HD Graphics 620</td>\n",
       "      <td>No OS</td>\n",
       "      <td>1.86</td>\n",
       "      <td>30636.0000</td>\n",
       "      <td>141.211998</td>\n",
       "      <td>0</td>\n",
       "      <td>Intel Core i5</td>\n",
       "      <td>0</td>\n",
       "      <td>256</td>\n",
       "    </tr>\n",
       "    <tr>\n",
       "      <th>3</th>\n",
       "      <td>Apple</td>\n",
       "      <td>Ultrabook</td>\n",
       "      <td>16</td>\n",
       "      <td>AMD Radeon Pro 455</td>\n",
       "      <td>macOS</td>\n",
       "      <td>1.83</td>\n",
       "      <td>135195.3360</td>\n",
       "      <td>220.534624</td>\n",
       "      <td>0</td>\n",
       "      <td>Intel Core i7</td>\n",
       "      <td>0</td>\n",
       "      <td>512</td>\n",
       "    </tr>\n",
       "    <tr>\n",
       "      <th>4</th>\n",
       "      <td>Apple</td>\n",
       "      <td>Ultrabook</td>\n",
       "      <td>8</td>\n",
       "      <td>Intel Iris Plus Graphics 650</td>\n",
       "      <td>macOS</td>\n",
       "      <td>1.37</td>\n",
       "      <td>96095.8080</td>\n",
       "      <td>226.983005</td>\n",
       "      <td>0</td>\n",
       "      <td>Intel Core i5</td>\n",
       "      <td>0</td>\n",
       "      <td>256</td>\n",
       "    </tr>\n",
       "    <tr>\n",
       "      <th>...</th>\n",
       "      <td>...</td>\n",
       "      <td>...</td>\n",
       "      <td>...</td>\n",
       "      <td>...</td>\n",
       "      <td>...</td>\n",
       "      <td>...</td>\n",
       "      <td>...</td>\n",
       "      <td>...</td>\n",
       "      <td>...</td>\n",
       "      <td>...</td>\n",
       "      <td>...</td>\n",
       "      <td>...</td>\n",
       "    </tr>\n",
       "    <tr>\n",
       "      <th>1269</th>\n",
       "      <td>Asus</td>\n",
       "      <td>Notebook</td>\n",
       "      <td>4</td>\n",
       "      <td>Nvidia GeForce 920M</td>\n",
       "      <td>Windows 10</td>\n",
       "      <td>2.20</td>\n",
       "      <td>38378.6496</td>\n",
       "      <td>100.454670</td>\n",
       "      <td>0</td>\n",
       "      <td>Intel Core i7</td>\n",
       "      <td>500</td>\n",
       "      <td>0</td>\n",
       "    </tr>\n",
       "    <tr>\n",
       "      <th>1270</th>\n",
       "      <td>Lenovo</td>\n",
       "      <td>2 in 1 Convertible</td>\n",
       "      <td>4</td>\n",
       "      <td>Intel HD Graphics 520</td>\n",
       "      <td>Windows 10</td>\n",
       "      <td>1.80</td>\n",
       "      <td>33992.6400</td>\n",
       "      <td>157.350512</td>\n",
       "      <td>1</td>\n",
       "      <td>Intel Core i7</td>\n",
       "      <td>0</td>\n",
       "      <td>128</td>\n",
       "    </tr>\n",
       "    <tr>\n",
       "      <th>1271</th>\n",
       "      <td>Lenovo</td>\n",
       "      <td>2 in 1 Convertible</td>\n",
       "      <td>16</td>\n",
       "      <td>Intel HD Graphics 520</td>\n",
       "      <td>Windows 10</td>\n",
       "      <td>1.30</td>\n",
       "      <td>79866.7200</td>\n",
       "      <td>276.053530</td>\n",
       "      <td>1</td>\n",
       "      <td>Intel Core i7</td>\n",
       "      <td>0</td>\n",
       "      <td>512</td>\n",
       "    </tr>\n",
       "    <tr>\n",
       "      <th>1272</th>\n",
       "      <td>Lenovo</td>\n",
       "      <td>Notebook</td>\n",
       "      <td>2</td>\n",
       "      <td>Intel HD Graphics</td>\n",
       "      <td>Windows 10</td>\n",
       "      <td>1.50</td>\n",
       "      <td>12201.1200</td>\n",
       "      <td>111.935204</td>\n",
       "      <td>0</td>\n",
       "      <td>Other Intel</td>\n",
       "      <td>0</td>\n",
       "      <td>0</td>\n",
       "    </tr>\n",
       "    <tr>\n",
       "      <th>1273</th>\n",
       "      <td>HP</td>\n",
       "      <td>Notebook</td>\n",
       "      <td>6</td>\n",
       "      <td>AMD Radeon R5 M330</td>\n",
       "      <td>Windows 10</td>\n",
       "      <td>2.19</td>\n",
       "      <td>40705.9200</td>\n",
       "      <td>100.454670</td>\n",
       "      <td>0</td>\n",
       "      <td>Intel Core i7</td>\n",
       "      <td>1000</td>\n",
       "      <td>0</td>\n",
       "    </tr>\n",
       "  </tbody>\n",
       "</table>\n",
       "<p>1274 rows × 12 columns</p>\n",
       "</div>"
      ],
      "text/plain": [
       "     Company            TypeName  Ram                           Gpu  \\\n",
       "0      Apple           Ultrabook    8  Intel Iris Plus Graphics 640   \n",
       "1      Apple           Ultrabook    8        Intel HD Graphics 6000   \n",
       "2         HP            Notebook    8         Intel HD Graphics 620   \n",
       "3      Apple           Ultrabook   16            AMD Radeon Pro 455   \n",
       "4      Apple           Ultrabook    8  Intel Iris Plus Graphics 650   \n",
       "...      ...                 ...  ...                           ...   \n",
       "1269    Asus            Notebook    4           Nvidia GeForce 920M   \n",
       "1270  Lenovo  2 in 1 Convertible    4         Intel HD Graphics 520   \n",
       "1271  Lenovo  2 in 1 Convertible   16         Intel HD Graphics 520   \n",
       "1272  Lenovo            Notebook    2             Intel HD Graphics   \n",
       "1273      HP            Notebook    6            AMD Radeon R5 M330   \n",
       "\n",
       "           OpSys  Weight        Price         ppi  touch       Cpu name   HDD  \\\n",
       "0          macOS    1.37   71378.6832  226.983005      0  Intel Core i5     0   \n",
       "1          macOS    1.34   47895.5232  127.677940      0  Intel Core i5     0   \n",
       "2          No OS    1.86   30636.0000  141.211998      0  Intel Core i5     0   \n",
       "3          macOS    1.83  135195.3360  220.534624      0  Intel Core i7     0   \n",
       "4          macOS    1.37   96095.8080  226.983005      0  Intel Core i5     0   \n",
       "...          ...     ...          ...         ...    ...            ...   ...   \n",
       "1269  Windows 10    2.20   38378.6496  100.454670      0  Intel Core i7   500   \n",
       "1270  Windows 10    1.80   33992.6400  157.350512      1  Intel Core i7     0   \n",
       "1271  Windows 10    1.30   79866.7200  276.053530      1  Intel Core i7     0   \n",
       "1272  Windows 10    1.50   12201.1200  111.935204      0    Other Intel     0   \n",
       "1273  Windows 10    2.19   40705.9200  100.454670      0  Intel Core i7  1000   \n",
       "\n",
       "      SSD  \n",
       "0     128  \n",
       "1       0  \n",
       "2     256  \n",
       "3     512  \n",
       "4     256  \n",
       "...   ...  \n",
       "1269    0  \n",
       "1270  128  \n",
       "1271  512  \n",
       "1272    0  \n",
       "1273    0  \n",
       "\n",
       "[1274 rows x 12 columns]"
      ]
     },
     "execution_count": 275,
     "metadata": {},
     "output_type": "execute_result"
    }
   ],
   "source": [
    "df"
   ]
  },
  {
   "cell_type": "code",
   "execution_count": 276,
   "id": "fb5f8a39-660d-45ea-a95f-e80d219658ac",
   "metadata": {},
   "outputs": [],
   "source": [
    "df['GPU']=df['Gpu'].apply(lambda x:x.split()[0])"
   ]
  },
  {
   "cell_type": "code",
   "execution_count": 280,
   "id": "f403e02b-0c9f-40bb-9869-3912395700a9",
   "metadata": {},
   "outputs": [],
   "source": [
    "df=df[df['GPU']!='ARM']"
   ]
  },
  {
   "cell_type": "code",
   "execution_count": 283,
   "id": "3f15d4f8-999c-47aa-baa0-5a6c8b2e4e7e",
   "metadata": {},
   "outputs": [
    {
     "data": {
      "text/plain": [
       "<Axes: xlabel='GPU', ylabel='Price'>"
      ]
     },
     "execution_count": 283,
     "metadata": {},
     "output_type": "execute_result"
    },
    {
     "data": {
      "image/png": "[encoded data removed]",
      "text/plain": [
       "<Figure size 640x480 with 1 Axes>"
      ]
     },
     "metadata": {},
     "output_type": "display_data"
    }
   ],
   "source": [
    "sns.boxplot(x=df['GPU'],y=df['Price'])"
   ]
  },
  {
   "cell_type": "code",
   "execution_count": 284,
   "id": "d8b6bb4a-f400-4cc7-a95d-41933310ef92",
   "metadata": {},
   "outputs": [
    {
     "name": "stderr",
     "output_type": "stream",
     "text": [
      "C:\\Users\\Public\\Documents\\Wondershare\\CreatorTemp\\ipykernel_14324\\2519143482.py:1: SettingWithCopyWarning: \n",
      "A value is trying to be set on a copy of a slice from a DataFrame\n",
      "\n",
      "See the caveats in the documentation: https://pandas.pydata.org/pandas-docs/stable/user_guide/indexing.html#returning-a-view-versus-a-copy\n",
      "  df.drop('Gpu',axis=1,inplace=True)\n"
     ]
    }
   ],
   "source": [
    "df.drop('Gpu',axis=1,inplace=True)"
   ]
  },
  {
   "cell_type": "code",
   "execution_count": 286,
   "id": "33d855c1-755d-48b9-b36c-01902052be39",
   "metadata": {},
   "outputs": [
    {
     "data": {
      "text/plain": [
       "OpSys\n",
       "Windows 10      1047\n",
       "No OS             66\n",
       "Linux             58\n",
       "Windows 7         45\n",
       "Chrome OS         26\n",
       "macOS             13\n",
       "Mac OS X           8\n",
       "Windows 10 S       8\n",
       "Android            2\n",
       "Name: count, dtype: int64"
      ]
     },
     "execution_count": 286,
     "metadata": {},
     "output_type": "execute_result"
    }
   ],
   "source": [
    "df['OpSys'].value_counts()"
   ]
  },
  {
   "cell_type": "code",
   "execution_count": 289,
   "id": "89975bb2-72c4-49e0-9faf-a83f17bf412d",
   "metadata": {},
   "outputs": [
    {
     "data": {
      "image/png": "[encoded data removed]",
      "text/plain": [
       "<Figure size 640x480 with 1 Axes>"
      ]
     },
     "metadata": {},
     "output_type": "display_data"
    }
   ],
   "source": [
    "sns.barplot(x=df['OpSys'],y=df['Price'])\n",
    "plt.xticks(rotation='vertical')\n",
    "plt.show()"
   ]
  },
  {
   "cell_type": "code",
   "execution_count": 290,
   "id": "7e1c48d2-04ae-409e-a9ff-7bc08f1690ce",
   "metadata": {},
   "outputs": [],
   "source": [
    "def ops(i):\n",
    "    if i=='Windows 10' or i=='Windows 7' or i=='Windows 10 S':\n",
    "        return 'Windows'\n",
    "    elif i=='macOS' or i=='Mac OS X':\n",
    "        return 'Mac'\n",
    "    else:\n",
    "        return 'Others'"
   ]
  },
  {
   "cell_type": "code",
   "execution_count": 291,
   "id": "f278706b-5608-4a47-b251-b4b1a2997e1a",
   "metadata": {},
   "outputs": [
    {
     "name": "stderr",
     "output_type": "stream",
     "text": [
      "C:\\Users\\Public\\Documents\\Wondershare\\CreatorTemp\\ipykernel_14324\\179584642.py:1: SettingWithCopyWarning: \n",
      "A value is trying to be set on a copy of a slice from a DataFrame.\n",
      "Try using .loc[row_indexer,col_indexer] = value instead\n",
      "\n",
      "See the caveats in the documentation: https://pandas.pydata.org/pandas-docs/stable/user_guide/indexing.html#returning-a-view-versus-a-copy\n",
      "  df['System']=df['OpSys'].apply(ops)\n"
     ]
    }
   ],
   "source": [
    "df['System']=df['OpSys'].apply(ops)"
   ]
  },
  {
   "cell_type": "code",
   "execution_count": 293,
   "id": "7afced00-c171-436a-b8cd-cb2356909697",
   "metadata": {},
   "outputs": [
    {
     "name": "stderr",
     "output_type": "stream",
     "text": [
      "C:\\Users\\Public\\Documents\\Wondershare\\CreatorTemp\\ipykernel_14324\\1148031575.py:1: SettingWithCopyWarning: \n",
      "A value is trying to be set on a copy of a slice from a DataFrame\n",
      "\n",
      "See the caveats in the documentation: https://pandas.pydata.org/pandas-docs/stable/user_guide/indexing.html#returning-a-view-versus-a-copy\n",
      "  df.drop('OpSys',axis=1,inplace=True)\n"
     ]
    }
   ],
   "source": [
    "df.drop('OpSys',axis=1,inplace=True)"
   ]
  },
  {
   "cell_type": "code",
   "execution_count": 295,
   "id": "38030bbd-9f60-4e8c-ac9a-8e18e57b5245",
   "metadata": {},
   "outputs": [
    {
     "data": {
      "text/plain": [
       "TypeName\n",
       "Notebook              706\n",
       "Gaming                205\n",
       "Ultrabook             194\n",
       "2 in 1 Convertible    116\n",
       "Workstation            29\n",
       "Netbook                23\n",
       "Name: count, dtype: int64"
      ]
     },
     "execution_count": 295,
     "metadata": {},
     "output_type": "execute_result"
    }
   ],
   "source": [
    "df['TypeName'].value_counts()"
   ]
  },
  {
   "cell_type": "code",
   "execution_count": 297,
   "id": "32c10df9-3dde-4119-8af7-7920f90cca38",
   "metadata": {},
   "outputs": [
    {
     "data": {
      "image/png": "[encoded data removed]",
      "text/plain": [
       "<Figure size 640x480 with 1 Axes>"
      ]
     },
     "metadata": {},
     "output_type": "display_data"
    }
   ],
   "source": [
    "sns.barplot(x=df['System'],y=df['Price'])\n",
    "plt.xticks(rotation='vertical')\n",
    "plt.show()"
   ]
  },
  {
   "cell_type": "code",
   "execution_count": 298,
   "id": "7ed1e919-0b45-44b0-b3c5-8999c56941fe",
   "metadata": {},
   "outputs": [],
   "source": [
    "dff=df.select_dtypes(include='number')"
   ]
  },
  {
   "cell_type": "code",
   "execution_count": 301,
   "id": "43f42a98-2df7-4937-8d43-41c74eba98dd",
   "metadata": {},
   "outputs": [
    {
     "data": {
      "text/plain": [
       "<Axes: >"
      ]
     },
     "execution_count": 301,
     "metadata": {},
     "output_type": "execute_result"
    },
    {
     "data": {
      "image/png": "[encoded data removed]",
      "text/plain": [
       "<Figure size 640x480 with 2 Axes>"
      ]
     },
     "metadata": {},
     "output_type": "display_data"
    }
   ],
   "source": [
    "sns.heatmap(dff.corr(),annot=True)"
   ]
  },
  {
   "cell_type": "code",
   "execution_count": 302,
   "id": "c527c146-f2f5-4dd0-a293-ff69c49495c6",
   "metadata": {},
   "outputs": [],
   "source": [
    "X=df.drop('Price',axis=1)"
   ]
  },
  {
   "cell_type": "code",
   "execution_count": 305,
   "id": "479035b5-fc4b-4f2a-96c7-6a461cab5f03",
   "metadata": {},
   "outputs": [],
   "source": [
    "Y=np.log(df['Price'])"
   ]
  },
  {
   "cell_type": "code",
   "execution_count": 306,
   "id": "05ce9c57-adfe-4d1b-aa3e-305996201915",
   "metadata": {},
   "outputs": [
    {
     "data": {
      "text/plain": [
       "0       11.175755\n",
       "1       10.776777\n",
       "2       10.329931\n",
       "3       11.814476\n",
       "4       11.473101\n",
       "          ...    \n",
       "1269    10.555257\n",
       "1270    10.433899\n",
       "1271    11.288115\n",
       "1272     9.409283\n",
       "1273    10.614129\n",
       "Name: Price, Length: 1273, dtype: float64"
      ]
     },
     "execution_count": 306,
     "metadata": {},
     "output_type": "execute_result"
    }
   ],
   "source": [
    "Y"
   ]
  },
  {
   "cell_type": "code",
   "execution_count": 308,
   "id": "c6ec1569-3364-4263-a8e2-63912ac88421",
   "metadata": {},
   "outputs": [],
   "source": [
    "from sklearn.model_selection import train_test_split"
   ]
  },
  {
   "cell_type": "code",
   "execution_count": 309,
   "id": "57f68a5d-6ea4-45c4-912e-d20de752a449",
   "metadata": {},
   "outputs": [],
   "source": [
    "x_train,x_test,y_train,y_test=train_test_split(X,Y,test_size=0.2,random_state=2)"
   ]
  },
  {
   "cell_type": "code",
   "execution_count": 318,
   "id": "a3320ddc-13a3-4ceb-b2f7-dfe3312cc5d6",
   "metadata": {},
   "outputs": [],
   "source": [
    "from sklearn.compose import ColumnTransformer\n",
    "from sklearn.pipeline import Pipeline\n",
    "from sklearn.preprocessing import OneHotEncoder"
   ]
  },
  {
   "cell_type": "code",
   "execution_count": 317,
   "id": "fb77d1b4-b1b3-4a70-8a72-fbef755137ec",
   "metadata": {},
   "outputs": [],
   "source": [
    "from sklearn.linear_model import LinearRegression,Ridge,Lasso\n",
    "from sklearn.neighbors import KNeighborsRegressor\n",
    "from sklearn.tree import DecisionTreeRegressor\n",
    "from sklearn.ensemble import RandomForestRegressor,ExtraTreesRegressor,GradientBoostingRegressor,AdaBoostRegressor\n",
    "from sklearn.svm import SVR\n",
    "from xgboost import XGBRegressor"
   ]
  },
  {
   "cell_type": "code",
   "execution_count": 316,
   "id": "eb25acdd-2ffb-41ff-9d88-d94a900b08c3",
   "metadata": {},
   "outputs": [
    {
     "name": "stdout",
     "output_type": "stream",
     "text": [
      "Collecting xgboost\n",
      "  Downloading xgboost-2.1.3-py3-none-win_amd64.whl.metadata (2.1 kB)\n",
      "Requirement already satisfied: numpy in c:\\users\\smit kumar\\appdata\\local\\programs\\python\\python312\\lib\\site-packages (from xgboost) (1.26.4)\n",
      "Requirement already satisfied: scipy in c:\\users\\smit kumar\\appdata\\local\\programs\\python\\python312\\lib\\site-packages (from xgboost) (1.13.0)\n",
      "Downloading xgboost-2.1.3-py3-none-win_amd64.whl (124.9 MB)\n",
      "   ---------------------------------------- 0.0/124.9 MB ? eta -:--:--\n",
      "   ---------------------------------------- 0.8/124.9 MB 4.8 MB/s eta 0:00:26\n",
      "    --------------------------------------- 2.1/124.9 MB 5.9 MB/s eta 0:00:21\n",
      "   - -------------------------------------- 3.4/124.9 MB 5.9 MB/s eta 0:00:21\n",
      "   - -------------------------------------- 4.7/124.9 MB 6.1 MB/s eta 0:00:20\n",
      "   - -------------------------------------- 6.0/124.9 MB 6.1 MB/s eta 0:00:20\n",
      "   -- ------------------------------------- 7.6/124.9 MB 6.1 MB/s eta 0:00:20\n",
      "   -- ------------------------------------- 8.9/124.9 MB 6.2 MB/s eta 0:00:19\n",
      "   --- ------------------------------------ 10.5/124.9 MB 6.3 MB/s eta 0:00:19\n",
      "   --- ------------------------------------ 11.5/124.9 MB 6.3 MB/s eta 0:00:18\n",
      "   ---- ----------------------------------- 12.6/124.9 MB 6.2 MB/s eta 0:00:19\n",
      "   ---- ----------------------------------- 14.2/124.9 MB 6.2 MB/s eta 0:00:18\n",
      "   ---- ----------------------------------- 15.5/124.9 MB 6.2 MB/s eta 0:00:18\n",
      "   ----- ---------------------------------- 16.8/124.9 MB 6.2 MB/s eta 0:00:18\n",
      "   ----- ---------------------------------- 18.4/124.9 MB 6.3 MB/s eta 0:00:18\n",
      "   ------ --------------------------------- 19.4/124.9 MB 6.2 MB/s eta 0:00:17\n",
      "   ------ --------------------------------- 21.0/124.9 MB 6.3 MB/s eta 0:00:17\n",
      "   ------- -------------------------------- 22.0/124.9 MB 6.2 MB/s eta 0:00:17\n",
      "   ------- -------------------------------- 23.6/124.9 MB 6.2 MB/s eta 0:00:17\n",
      "   ------- -------------------------------- 24.9/124.9 MB 6.2 MB/s eta 0:00:17\n",
      "   -------- ------------------------------- 26.5/124.9 MB 6.3 MB/s eta 0:00:16\n",
      "   -------- ------------------------------- 27.8/124.9 MB 6.3 MB/s eta 0:00:16\n",
      "   --------- ------------------------------ 29.4/124.9 MB 6.3 MB/s eta 0:00:16\n",
      "   --------- ------------------------------ 30.7/124.9 MB 6.3 MB/s eta 0:00:15\n",
      "   ---------- ----------------------------- 32.0/124.9 MB 6.3 MB/s eta 0:00:15\n",
      "   ---------- ----------------------------- 33.3/124.9 MB 6.3 MB/s eta 0:00:15\n",
      "   ---------- ----------------------------- 34.1/124.9 MB 6.3 MB/s eta 0:00:15\n",
      "   ----------- ---------------------------- 35.7/124.9 MB 6.2 MB/s eta 0:00:15\n",
      "   ----------- ---------------------------- 37.2/124.9 MB 6.2 MB/s eta 0:00:15\n",
      "   ------------ --------------------------- 38.5/124.9 MB 6.2 MB/s eta 0:00:14\n",
      "   ------------ --------------------------- 39.8/124.9 MB 6.3 MB/s eta 0:00:14\n",
      "   ------------- -------------------------- 41.4/124.9 MB 6.3 MB/s eta 0:00:14\n",
      "   ------------- -------------------------- 42.7/124.9 MB 6.3 MB/s eta 0:00:14\n",
      "   -------------- ------------------------- 44.0/124.9 MB 6.3 MB/s eta 0:00:13\n",
      "   -------------- ------------------------- 45.6/124.9 MB 6.3 MB/s eta 0:00:13\n",
      "   --------------- ------------------------ 47.2/124.9 MB 6.3 MB/s eta 0:00:13\n",
      "   --------------- ------------------------ 48.5/124.9 MB 6.3 MB/s eta 0:00:13\n",
      "   --------------- ------------------------ 49.8/124.9 MB 6.3 MB/s eta 0:00:12\n",
      "   ---------------- ----------------------- 51.1/124.9 MB 6.3 MB/s eta 0:00:12\n",
      "   ---------------- ----------------------- 52.7/124.9 MB 6.3 MB/s eta 0:00:12\n",
      "   ----------------- ---------------------- 54.3/124.9 MB 6.3 MB/s eta 0:00:12\n",
      "   ----------------- ---------------------- 55.6/124.9 MB 6.3 MB/s eta 0:00:11\n",
      "   ------------------ --------------------- 56.9/124.9 MB 6.3 MB/s eta 0:00:11\n",
      "   ------------------ --------------------- 58.5/124.9 MB 6.3 MB/s eta 0:00:11\n",
      "   ------------------- -------------------- 59.8/124.9 MB 6.3 MB/s eta 0:00:11\n",
      "   ------------------- -------------------- 61.1/124.9 MB 6.3 MB/s eta 0:00:11\n",
      "   ------------------- -------------------- 62.4/124.9 MB 6.3 MB/s eta 0:00:10\n",
      "   -------------------- ------------------- 64.0/124.9 MB 6.4 MB/s eta 0:00:10\n",
      "   -------------------- ------------------- 65.3/124.9 MB 6.3 MB/s eta 0:00:10\n",
      "   --------------------- ------------------ 66.6/124.9 MB 6.4 MB/s eta 0:00:10\n",
      "   --------------------- ------------------ 67.9/124.9 MB 6.3 MB/s eta 0:00:09\n",
      "   ---------------------- ----------------- 68.9/124.9 MB 6.3 MB/s eta 0:00:09\n",
      "   ---------------------- ----------------- 70.3/124.9 MB 6.3 MB/s eta 0:00:09\n",
      "   ---------------------- ----------------- 71.6/124.9 MB 6.3 MB/s eta 0:00:09\n",
      "   ----------------------- ---------------- 72.9/124.9 MB 6.3 MB/s eta 0:00:09\n",
      "   ----------------------- ---------------- 74.2/124.9 MB 6.3 MB/s eta 0:00:09\n",
      "   ------------------------ --------------- 75.5/124.9 MB 6.3 MB/s eta 0:00:08\n",
      "   ------------------------ --------------- 76.8/124.9 MB 6.3 MB/s eta 0:00:08\n",
      "   ------------------------ --------------- 77.9/124.9 MB 6.3 MB/s eta 0:00:08\n",
      "   ------------------------- -------------- 78.9/124.9 MB 6.3 MB/s eta 0:00:08\n",
      "   ------------------------- -------------- 80.0/124.9 MB 6.3 MB/s eta 0:00:08\n",
      "   -------------------------- ------------- 81.5/124.9 MB 6.3 MB/s eta 0:00:07\n",
      "   -------------------------- ------------- 82.8/124.9 MB 6.3 MB/s eta 0:00:07\n",
      "   -------------------------- ------------- 84.1/124.9 MB 6.2 MB/s eta 0:00:07\n",
      "   --------------------------- ------------ 85.5/124.9 MB 6.3 MB/s eta 0:00:07\n",
      "   --------------------------- ------------ 86.8/124.9 MB 6.3 MB/s eta 0:00:07\n",
      "   ---------------------------- ----------- 88.3/124.9 MB 6.3 MB/s eta 0:00:06\n",
      "   ---------------------------- ----------- 89.7/124.9 MB 6.3 MB/s eta 0:00:06\n",
      "   ----------------------------- ---------- 91.0/124.9 MB 6.3 MB/s eta 0:00:06\n",
      "   ----------------------------- ---------- 92.3/124.9 MB 6.3 MB/s eta 0:00:06\n",
      "   ----------------------------- ---------- 93.6/124.9 MB 6.3 MB/s eta 0:00:05\n",
      "   ------------------------------ --------- 94.6/124.9 MB 6.2 MB/s eta 0:00:05\n",
      "   ------------------------------ --------- 96.2/124.9 MB 6.2 MB/s eta 0:00:05\n",
      "   ------------------------------- -------- 97.5/124.9 MB 6.2 MB/s eta 0:00:05\n",
      "   ------------------------------- -------- 98.8/124.9 MB 6.2 MB/s eta 0:00:05\n",
      "   ------------------------------- -------- 99.9/124.9 MB 6.2 MB/s eta 0:00:05\n",
      "   -------------------------------- ------- 100.1/124.9 MB 6.2 MB/s eta 0:00:05\n",
      "   -------------------------------- ------- 101.7/124.9 MB 6.1 MB/s eta 0:00:04\n",
      "   -------------------------------- ------- 102.5/124.9 MB 6.1 MB/s eta 0:00:04\n",
      "   -------------------------------- ------- 103.0/124.9 MB 6.1 MB/s eta 0:00:04\n",
      "   --------------------------------- ------ 103.5/124.9 MB 6.1 MB/s eta 0:00:04\n",
      "   --------------------------------- ------ 104.6/124.9 MB 6.0 MB/s eta 0:00:04\n",
      "   --------------------------------- ------ 105.4/124.9 MB 6.0 MB/s eta 0:00:04\n",
      "   --------------------------------- ------ 106.2/124.9 MB 5.9 MB/s eta 0:00:04\n",
      "   ---------------------------------- ----- 107.0/124.9 MB 5.9 MB/s eta 0:00:04\n",
      "   ---------------------------------- ----- 108.0/124.9 MB 5.9 MB/s eta 0:00:03\n",
      "   ---------------------------------- ----- 109.1/124.9 MB 5.9 MB/s eta 0:00:03\n",
      "   ----------------------------------- ---- 110.1/124.9 MB 5.9 MB/s eta 0:00:03\n",
      "   ----------------------------------- ---- 111.4/124.9 MB 5.9 MB/s eta 0:00:03\n",
      "   ------------------------------------ --- 112.5/124.9 MB 5.9 MB/s eta 0:00:03\n",
      "   ------------------------------------ --- 113.5/124.9 MB 5.9 MB/s eta 0:00:02\n",
      "   ------------------------------------ --- 114.6/124.9 MB 5.9 MB/s eta 0:00:02\n",
      "   ------------------------------------- -- 115.6/124.9 MB 5.8 MB/s eta 0:00:02\n",
      "   ------------------------------------- -- 116.7/124.9 MB 5.8 MB/s eta 0:00:02\n",
      "   ------------------------------------- -- 118.0/124.9 MB 5.8 MB/s eta 0:00:02\n",
      "   -------------------------------------- - 119.0/124.9 MB 5.8 MB/s eta 0:00:02\n",
      "   -------------------------------------- - 120.1/124.9 MB 5.8 MB/s eta 0:00:01\n",
      "   -------------------------------------- - 121.4/124.9 MB 5.8 MB/s eta 0:00:01\n",
      "   ---------------------------------------  122.7/124.9 MB 5.8 MB/s eta 0:00:01\n",
      "   ---------------------------------------  123.7/124.9 MB 5.8 MB/s eta 0:00:01\n",
      "   ---------------------------------------  124.8/124.9 MB 5.8 MB/s eta 0:00:01\n",
      "   ---------------------------------------  124.8/124.9 MB 5.8 MB/s eta 0:00:01\n",
      "   ---------------------------------------  124.8/124.9 MB 5.8 MB/s eta 0:00:01\n",
      "   ---------------------------------------  124.8/124.9 MB 5.8 MB/s eta 0:00:01\n",
      "   ---------------------------------------  124.8/124.9 MB 5.8 MB/s eta 0:00:01\n",
      "   ---------------------------------------  124.8/124.9 MB 5.8 MB/s eta 0:00:01\n",
      "   ---------------------------------------  124.8/124.9 MB 5.8 MB/s eta 0:00:01\n",
      "   ---------------------------------------  124.8/124.9 MB 5.8 MB/s eta 0:00:01\n",
      "   ---------------------------------------  124.8/124.9 MB 5.8 MB/s eta 0:00:01\n",
      "   ---------------------------------------  124.8/124.9 MB 5.8 MB/s eta 0:00:01\n",
      "   ---------------------------------------  124.8/124.9 MB 5.8 MB/s eta 0:00:01\n",
      "   ---------------------------------------  124.8/124.9 MB 5.8 MB/s eta 0:00:01\n",
      "   ---------------------------------------  124.8/124.9 MB 5.8 MB/s eta 0:00:01\n",
      "   ---------------------------------------  124.8/124.9 MB 5.8 MB/s eta 0:00:01\n",
      "   ---------------------------------------  124.8/124.9 MB 5.8 MB/s eta 0:00:01\n",
      "   ---------------------------------------  124.8/124.9 MB 5.8 MB/s eta 0:00:01\n",
      "   ---------------------------------------  124.8/124.9 MB 5.8 MB/s eta 0:00:01\n",
      "   ---------------------------------------  124.8/124.9 MB 5.8 MB/s eta 0:00:01\n",
      "   ---------------------------------------  124.8/124.9 MB 5.8 MB/s eta 0:00:01\n",
      "   ---------------------------------------  124.8/124.9 MB 5.8 MB/s eta 0:00:01\n",
      "   ---------------------------------------  124.8/124.9 MB 5.8 MB/s eta 0:00:01\n",
      "   ---------------------------------------  124.8/124.9 MB 5.8 MB/s eta 0:00:01\n",
      "   ---------------------------------------- 124.9/124.9 MB 4.8 MB/s eta 0:00:00\n",
      "Installing collected packages: xgboost\n",
      "Successfully installed xgboost-2.1.3\n"
     ]
    },
    {
     "name": "stderr",
     "output_type": "stream",
     "text": [
      "WARNING: Ignoring invalid distribution ~ip (C:\\Users\\SMIT KUMAR\\AppData\\Local\\Programs\\Python\\Python312\\Lib\\site-packages)\n",
      "WARNING: Ignoring invalid distribution ~ip (C:\\Users\\SMIT KUMAR\\AppData\\Local\\Programs\\Python\\Python312\\Lib\\site-packages)\n",
      "WARNING: Ignoring invalid distribution ~ip (C:\\Users\\SMIT KUMAR\\AppData\\Local\\Programs\\Python\\Python312\\Lib\\site-packages)\n",
      "\n",
      "[notice] A new release of pip is available: 24.3.1 -> 25.0\n",
      "[notice] To update, run: python.exe -m pip install --upgrade pip\n"
     ]
    }
   ],
   "source": [
    "!pip install xgboost"
   ]
  },
  {
   "cell_type": "code",
   "execution_count": 324,
   "id": "4f00fe27-dc64-43cf-82b8-fd25bb94f399",
   "metadata": {},
   "outputs": [],
   "source": [
    "from sklearn.metrics import r2_score,mean_absolute_error"
   ]
  },
  {
   "cell_type": "code",
   "execution_count": 333,
   "id": "2788f10a-8312-46e6-8de6-b98a16de608b",
   "metadata": {},
   "outputs": [
    {
     "name": "stdout",
     "output_type": "stream",
     "text": [
      "r2_score 0.7961930346410298\n",
      "msr 0.20889257289035482\n"
     ]
    }
   ],
   "source": [
    "s1=ColumnTransformer([('col_num',OneHotEncoder(sparse_output=False,drop='first'),[0,1,6,9,10])],remainder='passthrough')\n",
    "s2=LinearRegression()\n",
    "p=Pipeline([('s1',s1),('s2',s2)])\n",
    "p.fit(x_train,y_train)\n",
    "y_pred=p.predict(x_test)\n",
    "print('r2_score',r2_score(y_test,y_pred))\n",
    "print('msr',mean_absolute_error(y_test,y_pred))"
   ]
  },
  {
   "cell_type": "code",
   "execution_count": 473,
   "id": "0bf090ad-20ad-4b4b-88da-3816fa67d6e4",
   "metadata": {},
   "outputs": [
    {
     "name": "stdout",
     "output_type": "stream",
     "text": [
      "r2_score 0.8080508541566913\n",
      "msr 0.20376050849009336\n"
     ]
    }
   ],
   "source": [
    "s1=ColumnTransformer([('col_num',OneHotEncoder(sparse_output=False,drop='first'),[0,1,6,9,10])],remainder='passthrough')\n",
    "s3=Ridge(alpha=7)\n",
    "p=Pipeline([('s1',s1),('s3',s3)])\n",
    "p.fit(x_train,y_train)\n",
    "y_pred=p.predict(x_test)\n",
    "print('r2_score',r2_score(y_test,y_pred))\n",
    "print('msr',mean_absolute_error(y_test,y_pred))"
   ]
  },
  {
   "cell_type": "code",
   "execution_count": 373,
   "id": "1c84f8c7-dffd-4405-88c5-903a8f3b9342",
   "metadata": {},
   "outputs": [
    {
     "name": "stdout",
     "output_type": "stream",
     "text": [
      "r2_score 0.8041023419989338\n",
      "msr 0.20469284053091186\n"
     ]
    }
   ],
   "source": [
    "s1=ColumnTransformer([('col_num',OneHotEncoder(sparse_output=False,drop='first'),[0,1,6,9,10])],remainder='passthrough')\n",
    "s4=Lasso(alpha=0.0006)\n",
    "p=Pipeline([('s1',s1),('s4',s4)])\n",
    "p.fit(x_train,y_train)\n",
    "y_pred=p.predict(x_test)\n",
    "print('r2_score',r2_score(y_test,y_pred))\n",
    "print('msr',mean_absolute_error(y_test,y_pred))"
   ]
  },
  {
   "cell_type": "code",
   "execution_count": 390,
   "id": "cead4e92-7710-4c02-908a-8215477a2f02",
   "metadata": {},
   "outputs": [
    {
     "name": "stdout",
     "output_type": "stream",
     "text": [
      "r2_score 0.7499005606732903\n",
      "msr 0.2114793801899925\n"
     ]
    }
   ],
   "source": [
    "s1=ColumnTransformer([('col_num',OneHotEncoder(sparse_output=False,drop='first'),[0,1,6,9,10])],remainder='passthrough')\n",
    "s5=KNeighborsRegressor(n_neighbors=5)\n",
    "p=Pipeline([('s1',s1),('s5',s5)])\n",
    "p.fit(x_train,y_train)\n",
    "y_pred=p.predict(x_test)\n",
    "print('r2_score',r2_score(y_test,y_pred))\n",
    "print('msr',mean_absolute_error(y_test,y_pred))"
   ]
  },
  {
   "cell_type": "code",
   "execution_count": 400,
   "id": "20ee35d1-8d54-4eb0-a5fa-d6384a4aeeb8",
   "metadata": {},
   "outputs": [
    {
     "name": "stdout",
     "output_type": "stream",
     "text": [
      "r2_score 0.7735252800365827\n",
      "msr 0.22309425457521417\n"
     ]
    }
   ],
   "source": [
    "s1=ColumnTransformer([('col_num',OneHotEncoder(sparse_output=False,drop='first'),[0,1,6,9,10])],remainder='passthrough')\n",
    "s6=DecisionTreeRegressor(max_depth=6)\n",
    "p=Pipeline([('s1',s1),('s6',s6)])\n",
    "p.fit(x_train,y_train)\n",
    "y_pred=p.predict(x_test)\n",
    "print('r2_score',r2_score(y_test,y_pred))\n",
    "print('msr',mean_absolute_error(y_test,y_pred))"
   ]
  },
  {
   "cell_type": "code",
   "execution_count": 505,
   "id": "bb41bf3d-9df6-4b29-8653-e49301779f5e",
   "metadata": {},
   "outputs": [
    {
     "name": "stdout",
     "output_type": "stream",
     "text": [
      "r2_score 0.8587327358116825\n",
      "msr 0.1704573553159489\n"
     ]
    }
   ],
   "source": [
    "s1=ColumnTransformer([('col_num',OneHotEncoder(sparse_output=False,drop='first'),[0,1,6,9,10])],remainder='passthrough')\n",
    "s7=RandomForestRegressor(n_estimators=115,max_depth=19,random_state=9,max_samples=0.5,max_features=0.75)\n",
    "pipe=Pipeline([('s1',s1),('s7',s7)])\n",
    "pipe.fit(x_train,y_train)\n",
    "y_pred=pipe.predict(x_test)\n",
    "print('r2_score',r2_score(y_test,y_pred))\n",
    "print('msr',mean_absolute_error(y_test,y_pred))"
   ]
  },
  {
   "cell_type": "code",
   "execution_count": 506,
   "id": "8a718b9e-95ec-4553-a88d-d2a6b31f274a",
   "metadata": {},
   "outputs": [
    {
     "name": "stdout",
     "output_type": "stream",
     "text": [
      "r2_score 0.8732235052295908\n",
      "msr 0.16195479282482889\n"
     ]
    }
   ],
   "source": [
    "s1=ColumnTransformer([('col_num',OneHotEncoder(sparse_output=False,drop='first'),[0,1,6,9,10])],remainder='passthrough')\n",
    "s8=ExtraTreesRegressor(n_estimators=105,max_depth=20,random_state=9,max_samples=0.5,max_features=0.75,bootstrap=True)\n",
    "pipe=Pipeline([('s1',s1),('s8',s8)])\n",
    "pipe.fit(x_train,y_train)\n",
    "y_pred=pipe.predict(x_test)\n",
    "print('r2_score',r2_score(y_test,y_pred))\n",
    "print('msr',mean_absolute_error(y_test,y_pred))"
   ]
  },
  {
   "cell_type": "code",
   "execution_count": 440,
   "id": "548fe298-d591-4abe-ae44-a50c82e0e704",
   "metadata": {},
   "outputs": [
    {
     "name": "stdout",
     "output_type": "stream",
     "text": [
      "r2_score 0.7790804827600808\n",
      "msr 0.21936256555285355\n"
     ]
    }
   ],
   "source": [
    "s1=ColumnTransformer([('col_num',OneHotEncoder(sparse_output=False,drop='first'),[0,1,6,9,10])],remainder='passthrough')\n",
    "s9=AdaBoostRegressor(n_estimators=10,learning_rate=1.0)\n",
    "p=Pipeline([('s1',s1),('s9',s9)])\n",
    "p.fit(x_train,y_train)\n",
    "y_pred=p.predict(x_test)\n",
    "print('r2_score',r2_score(y_test,y_pred))\n",
    "print('msr',mean_absolute_error(y_test,y_pred))"
   ]
  },
  {
   "cell_type": "code",
   "execution_count": 445,
   "id": "0d8189a8-380a-4633-85aa-09480a6a85bf",
   "metadata": {},
   "outputs": [
    {
     "name": "stdout",
     "output_type": "stream",
     "text": [
      "r2_score 0.8624203273093404\n",
      "msr 0.16413871755979265\n"
     ]
    }
   ],
   "source": [
    "s1=ColumnTransformer([('col_num',OneHotEncoder(sparse_output=False,drop='first'),[0,1,6,9,10])],remainder='passthrough')\n",
    "s10=GradientBoostingRegressor(n_estimators=600)\n",
    "p=Pipeline([('s1',s1),('s10',s10)])\n",
    "p.fit(x_train,y_train)\n",
    "y_pred=p.predict(x_test)\n",
    "print('r2_score',r2_score(y_test,y_pred))\n",
    "print('msr',mean_absolute_error(y_test,y_pred))"
   ]
  },
  {
   "cell_type": "code",
   "execution_count": 449,
   "id": "4627a11b-8897-42f6-b844-cec09096fdeb",
   "metadata": {},
   "outputs": [],
   "source": [
    "from sklearn.model_selection import GridSearchCV"
   ]
  },
  {
   "cell_type": "code",
   "execution_count": 462,
   "id": "5f8a6b90-4f70-4a9d-b8e3-58a5a4e71cd1",
   "metadata": {},
   "outputs": [
    {
     "name": "stdout",
     "output_type": "stream",
     "text": [
      "r2_score 0.8466889516026446\n",
      "msr 0.17255950213487076\n"
     ]
    }
   ],
   "source": [
    "s1=ColumnTransformer([('col_num',OneHotEncoder(sparse_output=False,drop='first'),[0,1,6,9,10])],remainder='passthrough')\n",
    "s11=XGBRegressor(n_estimators=45,max_depth=10,learning_rate=0.1)\n",
    "p=Pipeline([('s1',s1),('s11',s11)])\n",
    "p.fit(x_train,y_train)\n",
    "y_pred=p.predict(x_test)\n",
    "print('r2_score',r2_score(y_test,y_pred))\n",
    "print('msr',mean_absolute_error(y_test,y_pred))"
   ]
  },
  {
   "cell_type": "code",
   "execution_count": 464,
   "id": "0479ea3f-96c0-463a-abf7-a4c2e2fecd6b",
   "metadata": {},
   "outputs": [],
   "source": [
    "from sklearn.ensemble import VotingRegressor,StackingRegressor"
   ]
  },
  {
   "cell_type": "code",
   "execution_count": 507,
   "id": "739fbbf2-a8fa-4523-81c6-9b894a6ed7f4",
   "metadata": {},
   "outputs": [
    {
     "name": "stdout",
     "output_type": "stream",
     "text": [
      "r2_score 0.8705344051285833\n",
      "msr 0.16419110962434214\n"
     ]
    }
   ],
   "source": [
    "s1=ColumnTransformer([('col_num',OneHotEncoder(sparse_output=False,drop='first'),[0,1,6,9,10])],remainder='passthrough')\n",
    "base=[('rd',RandomForestRegressor(n_estimators=115,max_depth=19,random_state=9,max_samples=0.5,max_features=0.75)),\n",
    "      ('et',ExtraTreesRegressor(n_estimators=100,max_depth=19,random_state=9,max_samples=0.5,max_features=0.75,bootstrap=True))]\n",
    "      #('xg',XGBRegressor(n_estimators=45,max_depth=10,learning_rate=0.1))]\n",
    "s_2=StackingRegressor(estimators=base,final_estimator=Ridge(alpha=10))\n",
    "p=Pipeline([('s1',s1),('s_2',s_2)])\n",
    "p.fit(x_train,y_train)\n",
    "y_pred=p.predict(x_test)\n",
    "print('r2_score',r2_score(y_test,y_pred))\n",
    "print('msr',mean_absolute_error(y_test,y_pred))"
   ]
  },
  {
   "cell_type": "code",
   "execution_count": 508,
   "id": "918af2e4-6dff-4827-b851-652101bd9d92",
   "metadata": {},
   "outputs": [],
   "source": [
    "import pickle"
   ]
  },
  {
   "cell_type": "code",
   "execution_count": 509,
   "id": "61c6c6a1-a061-4720-9b15-6d156d09cab6",
   "metadata": {},
   "outputs": [],
   "source": [
    "pickle.dump(df,open('df.pkl','wb'))\n",
    "pickle.dump(pipe,open('pipe.pkl','wb'))"
   ]
  },
  {
   "cell_type": "code",
   "execution_count": 510,
   "id": "bd4e5174-ecdb-460a-8a87-8f779dd7bb8b",
   "metadata": {},
   "outputs": [
    {
     "data": {
      "text/html": [
       "<div>\n",
       "<style scoped>\n",
       "    .dataframe tbody tr th:only-of-type {\n",
       "        vertical-align: middle;\n",
       "    }\n",
       "\n",
       "    .dataframe tbody tr th {\n",
       "        vertical-align: top;\n",
       "    }\n",
       "\n",
       "    .dataframe thead th {\n",
       "        text-align: right;\n",
       "    }\n",
       "</style>\n",
       "<table border=\"1\" class=\"dataframe\">\n",
       "  <thead>\n",
       "    <tr style=\"text-align: right;\">\n",
       "      <th></th>\n",
       "      <th>Company</th>\n",
       "      <th>TypeName</th>\n",
       "      <th>Ram</th>\n",
       "      <th>Weight</th>\n",
       "      <th>Price</th>\n",
       "      <th>ppi</th>\n",
       "      <th>touch</th>\n",
       "      <th>Cpu name</th>\n",
       "      <th>HDD</th>\n",
       "      <th>SSD</th>\n",
       "      <th>GPU</th>\n",
       "      <th>System</th>\n",
       "    </tr>\n",
       "  </thead>\n",
       "  <tbody>\n",
       "    <tr>\n",
       "      <th>0</th>\n",
       "      <td>Apple</td>\n",
       "      <td>Ultrabook</td>\n",
       "      <td>8</td>\n",
       "      <td>1.37</td>\n",
       "      <td>71378.6832</td>\n",
       "      <td>226.983005</td>\n",
       "      <td>0</td>\n",
       "      <td>Intel Core i5</td>\n",
       "      <td>0</td>\n",
       "      <td>128</td>\n",
       "      <td>Intel</td>\n",
       "      <td>Mac</td>\n",
       "    </tr>\n",
       "  </tbody>\n",
       "</table>\n",
       "</div>"
      ],
      "text/plain": [
       "  Company   TypeName  Ram  Weight       Price         ppi  touch  \\\n",
       "0   Apple  Ultrabook    8    1.37  71378.6832  226.983005      0   \n",
       "\n",
       "        Cpu name  HDD  SSD    GPU System  \n",
       "0  Intel Core i5    0  128  Intel    Mac  "
      ]
     },
     "execution_count": 510,
     "metadata": {},
     "output_type": "execute_result"
    }
   ],
   "source": [
    "df.head(1)"
   ]
  },
  {
   "cell_type": "code",
   "execution_count": 519,
   "id": "ded36a17-1418-43aa-96b1-8e37884ae895",
   "metadata": {},
   "outputs": [
    {
     "data": {
      "text/html": [
       "<div>\n",
       "<style scoped>\n",
       "    .dataframe tbody tr th:only-of-type {\n",
       "        vertical-align: middle;\n",
       "    }\n",
       "\n",
       "    .dataframe tbody tr th {\n",
       "        vertical-align: top;\n",
       "    }\n",
       "\n",
       "    .dataframe thead th {\n",
       "        text-align: right;\n",
       "    }\n",
       "</style>\n",
       "<table border=\"1\" class=\"dataframe\">\n",
       "  <thead>\n",
       "    <tr style=\"text-align: right;\">\n",
       "      <th></th>\n",
       "      <th>Company</th>\n",
       "      <th>TypeName</th>\n",
       "      <th>Ram</th>\n",
       "      <th>Weight</th>\n",
       "      <th>ppi</th>\n",
       "      <th>touch</th>\n",
       "      <th>Cpu name</th>\n",
       "      <th>HDD</th>\n",
       "      <th>SSD</th>\n",
       "      <th>GPU</th>\n",
       "      <th>System</th>\n",
       "    </tr>\n",
       "  </thead>\n",
       "  <tbody>\n",
       "    <tr>\n",
       "      <th>1206</th>\n",
       "      <td>HP</td>\n",
       "      <td>Notebook</td>\n",
       "      <td>8</td>\n",
       "      <td>1.91</td>\n",
       "      <td>100.454670</td>\n",
       "      <td>0</td>\n",
       "      <td>Intel Core i5</td>\n",
       "      <td>0</td>\n",
       "      <td>256</td>\n",
       "      <td>Intel</td>\n",
       "      <td>Windows</td>\n",
       "    </tr>\n",
       "    <tr>\n",
       "      <th>279</th>\n",
       "      <td>Lenovo</td>\n",
       "      <td>Notebook</td>\n",
       "      <td>8</td>\n",
       "      <td>2.80</td>\n",
       "      <td>127.335675</td>\n",
       "      <td>0</td>\n",
       "      <td>Intel Core i7</td>\n",
       "      <td>2000</td>\n",
       "      <td>0</td>\n",
       "      <td>Nvidia</td>\n",
       "      <td>Others</td>\n",
       "    </tr>\n",
       "    <tr>\n",
       "      <th>1205</th>\n",
       "      <td>Dell</td>\n",
       "      <td>Notebook</td>\n",
       "      <td>8</td>\n",
       "      <td>2.36</td>\n",
       "      <td>141.211998</td>\n",
       "      <td>0</td>\n",
       "      <td>Intel Core i5</td>\n",
       "      <td>0</td>\n",
       "      <td>256</td>\n",
       "      <td>AMD</td>\n",
       "      <td>Windows</td>\n",
       "    </tr>\n",
       "    <tr>\n",
       "      <th>1123</th>\n",
       "      <td>Dell</td>\n",
       "      <td>Notebook</td>\n",
       "      <td>4</td>\n",
       "      <td>2.09</td>\n",
       "      <td>100.454670</td>\n",
       "      <td>0</td>\n",
       "      <td>Intel Core i5</td>\n",
       "      <td>500</td>\n",
       "      <td>0</td>\n",
       "      <td>Intel</td>\n",
       "      <td>Others</td>\n",
       "    </tr>\n",
       "    <tr>\n",
       "      <th>391</th>\n",
       "      <td>Asus</td>\n",
       "      <td>Gaming</td>\n",
       "      <td>16</td>\n",
       "      <td>3.00</td>\n",
       "      <td>127.335675</td>\n",
       "      <td>0</td>\n",
       "      <td>Intel Core i7</td>\n",
       "      <td>1000</td>\n",
       "      <td>256</td>\n",
       "      <td>Nvidia</td>\n",
       "      <td>Windows</td>\n",
       "    </tr>\n",
       "    <tr>\n",
       "      <th>...</th>\n",
       "      <td>...</td>\n",
       "      <td>...</td>\n",
       "      <td>...</td>\n",
       "      <td>...</td>\n",
       "      <td>...</td>\n",
       "      <td>...</td>\n",
       "      <td>...</td>\n",
       "      <td>...</td>\n",
       "      <td>...</td>\n",
       "      <td>...</td>\n",
       "      <td>...</td>\n",
       "    </tr>\n",
       "    <tr>\n",
       "      <th>466</th>\n",
       "      <td>Acer</td>\n",
       "      <td>Notebook</td>\n",
       "      <td>4</td>\n",
       "      <td>2.20</td>\n",
       "      <td>100.454670</td>\n",
       "      <td>0</td>\n",
       "      <td>Intel Core i3</td>\n",
       "      <td>500</td>\n",
       "      <td>0</td>\n",
       "      <td>Nvidia</td>\n",
       "      <td>Windows</td>\n",
       "    </tr>\n",
       "    <tr>\n",
       "      <th>299</th>\n",
       "      <td>Asus</td>\n",
       "      <td>Ultrabook</td>\n",
       "      <td>16</td>\n",
       "      <td>1.63</td>\n",
       "      <td>141.211998</td>\n",
       "      <td>0</td>\n",
       "      <td>Intel Core i7</td>\n",
       "      <td>0</td>\n",
       "      <td>512</td>\n",
       "      <td>Nvidia</td>\n",
       "      <td>Windows</td>\n",
       "    </tr>\n",
       "    <tr>\n",
       "      <th>493</th>\n",
       "      <td>Acer</td>\n",
       "      <td>Notebook</td>\n",
       "      <td>8</td>\n",
       "      <td>2.20</td>\n",
       "      <td>100.454670</td>\n",
       "      <td>0</td>\n",
       "      <td>AMD</td>\n",
       "      <td>1000</td>\n",
       "      <td>0</td>\n",
       "      <td>AMD</td>\n",
       "      <td>Windows</td>\n",
       "    </tr>\n",
       "    <tr>\n",
       "      <th>527</th>\n",
       "      <td>Lenovo</td>\n",
       "      <td>Notebook</td>\n",
       "      <td>8</td>\n",
       "      <td>2.20</td>\n",
       "      <td>100.454670</td>\n",
       "      <td>0</td>\n",
       "      <td>Intel Core i3</td>\n",
       "      <td>2000</td>\n",
       "      <td>0</td>\n",
       "      <td>Nvidia</td>\n",
       "      <td>Others</td>\n",
       "    </tr>\n",
       "    <tr>\n",
       "      <th>1193</th>\n",
       "      <td>Apple</td>\n",
       "      <td>Ultrabook</td>\n",
       "      <td>8</td>\n",
       "      <td>0.92</td>\n",
       "      <td>226.415547</td>\n",
       "      <td>0</td>\n",
       "      <td>Other Intel</td>\n",
       "      <td>0</td>\n",
       "      <td>0</td>\n",
       "      <td>Intel</td>\n",
       "      <td>Mac</td>\n",
       "    </tr>\n",
       "  </tbody>\n",
       "</table>\n",
       "<p>1018 rows × 11 columns</p>\n",
       "</div>"
      ],
      "text/plain": [
       "     Company   TypeName  Ram  Weight         ppi  touch       Cpu name   HDD  \\\n",
       "1206      HP   Notebook    8    1.91  100.454670      0  Intel Core i5     0   \n",
       "279   Lenovo   Notebook    8    2.80  127.335675      0  Intel Core i7  2000   \n",
       "1205    Dell   Notebook    8    2.36  141.211998      0  Intel Core i5     0   \n",
       "1123    Dell   Notebook    4    2.09  100.454670      0  Intel Core i5   500   \n",
       "391     Asus     Gaming   16    3.00  127.335675      0  Intel Core i7  1000   \n",
       "...      ...        ...  ...     ...         ...    ...            ...   ...   \n",
       "466     Acer   Notebook    4    2.20  100.454670      0  Intel Core i3   500   \n",
       "299     Asus  Ultrabook   16    1.63  141.211998      0  Intel Core i7     0   \n",
       "493     Acer   Notebook    8    2.20  100.454670      0            AMD  1000   \n",
       "527   Lenovo   Notebook    8    2.20  100.454670      0  Intel Core i3  2000   \n",
       "1193   Apple  Ultrabook    8    0.92  226.415547      0    Other Intel     0   \n",
       "\n",
       "      SSD     GPU   System  \n",
       "1206  256   Intel  Windows  \n",
       "279     0  Nvidia   Others  \n",
       "1205  256     AMD  Windows  \n",
       "1123    0   Intel   Others  \n",
       "391   256  Nvidia  Windows  \n",
       "...   ...     ...      ...  \n",
       "466     0  Nvidia  Windows  \n",
       "299   512  Nvidia  Windows  \n",
       "493     0     AMD  Windows  \n",
       "527     0  Nvidia   Others  \n",
       "1193    0   Intel      Mac  \n",
       "\n",
       "[1018 rows x 11 columns]"
      ]
     },
     "execution_count": 519,
     "metadata": {},
     "output_type": "execute_result"
    }
   ],
   "source": [
    "x_train"
   ]
  }
 ],
 "metadata": {
  "kernelspec": {
   "display_name": "Python 3 (ipykernel)",
   "language": "python",
   "name": "python3"
  },
  "language_info": {
   "codemirror_mode": {
    "name": "ipython",
    "version": 3
   },
   "file_extension": ".py",
   "mimetype": "text/x-python",
   "name": "python",
   "nbconvert_exporter": "python",
   "pygments_lexer": "ipython3",
   "version": "3.12.0"
  }
 },
 "nbformat": 4,
 "nbformat_minor": 5
}
