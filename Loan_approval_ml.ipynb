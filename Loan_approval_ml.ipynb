{
 "cells": [
  {
   "cell_type": "code",
   "execution_count": 1,
   "id": "6ca575e8-9da6-43cd-a2f8-166c20dc21ec",
   "metadata": {},
   "outputs": [],
   "source": [
    "import pandas as pd\n",
    "import numpy as np"
   ]
  },
  {
   "cell_type": "code",
   "execution_count": 396,
   "id": "df74781b-076f-4739-a534-c99353a4be4a",
   "metadata": {},
   "outputs": [],
   "source": [
    "df=pd.read_excel('Copy of loan.xlsx')\n",
    "df.to_csv('Copy of loan.csv')"
   ]
  },
  {
   "cell_type": "code",
   "execution_count": 397,
   "id": "19ce6c35-74bf-4f3e-9544-6bb3ccb93b43",
   "metadata": {},
   "outputs": [
    {
     "data": {
      "text/html": [
       "<div>\n",
       "<style scoped>\n",
       "    .dataframe tbody tr th:only-of-type {\n",
       "        vertical-align: middle;\n",
       "    }\n",
       "\n",
       "    .dataframe tbody tr th {\n",
       "        vertical-align: top;\n",
       "    }\n",
       "\n",
       "    .dataframe thead th {\n",
       "        text-align: right;\n",
       "    }\n",
       "</style>\n",
       "<table border=\"1\" class=\"dataframe\">\n",
       "  <thead>\n",
       "    <tr style=\"text-align: right;\">\n",
       "      <th></th>\n",
       "      <th>Loan_ID</th>\n",
       "      <th>Gender</th>\n",
       "      <th>Married</th>\n",
       "      <th>Dependents</th>\n",
       "      <th>Education</th>\n",
       "      <th>Self_Employed</th>\n",
       "      <th>ApplicantIncome</th>\n",
       "      <th>CoapplicantIncome</th>\n",
       "      <th>LoanAmount</th>\n",
       "      <th>Loan_Amount_Term</th>\n",
       "      <th>Credit_History</th>\n",
       "      <th>Property_Area</th>\n",
       "      <th>Loan_Status</th>\n",
       "    </tr>\n",
       "  </thead>\n",
       "  <tbody>\n",
       "    <tr>\n",
       "      <th>0</th>\n",
       "      <td>LP001002</td>\n",
       "      <td>Male</td>\n",
       "      <td>No</td>\n",
       "      <td>0</td>\n",
       "      <td>Graduate</td>\n",
       "      <td>No</td>\n",
       "      <td>5849</td>\n",
       "      <td>0.0</td>\n",
       "      <td>NaN</td>\n",
       "      <td>360.0</td>\n",
       "      <td>1.0</td>\n",
       "      <td>Urban</td>\n",
       "      <td>Y</td>\n",
       "    </tr>\n",
       "    <tr>\n",
       "      <th>1</th>\n",
       "      <td>LP001003</td>\n",
       "      <td>Male</td>\n",
       "      <td>Yes</td>\n",
       "      <td>1</td>\n",
       "      <td>Graduate</td>\n",
       "      <td>No</td>\n",
       "      <td>4583</td>\n",
       "      <td>1508.0</td>\n",
       "      <td>128.0</td>\n",
       "      <td>360.0</td>\n",
       "      <td>1.0</td>\n",
       "      <td>Rural</td>\n",
       "      <td>N</td>\n",
       "    </tr>\n",
       "    <tr>\n",
       "      <th>2</th>\n",
       "      <td>LP001005</td>\n",
       "      <td>Male</td>\n",
       "      <td>Yes</td>\n",
       "      <td>0</td>\n",
       "      <td>Graduate</td>\n",
       "      <td>Yes</td>\n",
       "      <td>3000</td>\n",
       "      <td>0.0</td>\n",
       "      <td>66.0</td>\n",
       "      <td>360.0</td>\n",
       "      <td>1.0</td>\n",
       "      <td>Urban</td>\n",
       "      <td>Y</td>\n",
       "    </tr>\n",
       "    <tr>\n",
       "      <th>3</th>\n",
       "      <td>LP001006</td>\n",
       "      <td>Male</td>\n",
       "      <td>Yes</td>\n",
       "      <td>0</td>\n",
       "      <td>Not Graduate</td>\n",
       "      <td>No</td>\n",
       "      <td>2583</td>\n",
       "      <td>2358.0</td>\n",
       "      <td>120.0</td>\n",
       "      <td>360.0</td>\n",
       "      <td>1.0</td>\n",
       "      <td>Urban</td>\n",
       "      <td>Y</td>\n",
       "    </tr>\n",
       "    <tr>\n",
       "      <th>4</th>\n",
       "      <td>LP001008</td>\n",
       "      <td>Male</td>\n",
       "      <td>No</td>\n",
       "      <td>0</td>\n",
       "      <td>Graduate</td>\n",
       "      <td>No</td>\n",
       "      <td>6000</td>\n",
       "      <td>0.0</td>\n",
       "      <td>141.0</td>\n",
       "      <td>360.0</td>\n",
       "      <td>1.0</td>\n",
       "      <td>Urban</td>\n",
       "      <td>Y</td>\n",
       "    </tr>\n",
       "  </tbody>\n",
       "</table>\n",
       "</div>"
      ],
      "text/plain": [
       "    Loan_ID Gender Married Dependents     Education Self_Employed  \\\n",
       "0  LP001002   Male      No          0      Graduate            No   \n",
       "1  LP001003   Male     Yes          1      Graduate            No   \n",
       "2  LP001005   Male     Yes          0      Graduate           Yes   \n",
       "3  LP001006   Male     Yes          0  Not Graduate            No   \n",
       "4  LP001008   Male      No          0      Graduate            No   \n",
       "\n",
       "   ApplicantIncome  CoapplicantIncome  LoanAmount  Loan_Amount_Term  \\\n",
       "0             5849                0.0         NaN             360.0   \n",
       "1             4583             1508.0       128.0             360.0   \n",
       "2             3000                0.0        66.0             360.0   \n",
       "3             2583             2358.0       120.0             360.0   \n",
       "4             6000                0.0       141.0             360.0   \n",
       "\n",
       "   Credit_History Property_Area Loan_Status  \n",
       "0             1.0         Urban           Y  \n",
       "1             1.0         Rural           N  \n",
       "2             1.0         Urban           Y  \n",
       "3             1.0         Urban           Y  \n",
       "4             1.0         Urban           Y  "
      ]
     },
     "execution_count": 397,
     "metadata": {},
     "output_type": "execute_result"
    }
   ],
   "source": [
    "df.head()"
   ]
  },
  {
   "cell_type": "code",
   "execution_count": 398,
   "id": "a43a43dc-ddb3-4d4f-83ca-b4cb02fcde4f",
   "metadata": {},
   "outputs": [],
   "source": [
    "df=df.drop('Loan_ID',axis=1)"
   ]
  },
  {
   "cell_type": "code",
   "execution_count": 399,
   "id": "8c4083dc-cdf3-4ce9-9d63-7763316d04c3",
   "metadata": {},
   "outputs": [],
   "source": [
    "df['Gender']=df['Gender'].fillna(df['Gender'].mode()[0])\n",
    "df['Gender']=df['Gender'].apply(lambda x: 1 if x=='Male' else 0)"
   ]
  },
  {
   "cell_type": "code",
   "execution_count": 400,
   "id": "6b53377d-d7d7-4caf-a8cd-4dafb78ecc39",
   "metadata": {},
   "outputs": [],
   "source": [
    "df['Married']=df['Married'].fillna(df['Married'].mode()[0])\n",
    "df['Married']=df['Married'].apply(lambda x: 1 if x=='Yes' else 0)"
   ]
  },
  {
   "cell_type": "code",
   "execution_count": 401,
   "id": "a138fd7d-0379-481a-bc20-0cfa91e0ddef",
   "metadata": {},
   "outputs": [],
   "source": [
    "df['Dependents']=df['Dependents'].replace('3+','3')\n",
    "df['Dependents']=df['Dependents'].fillna(df['Dependents'].mode()[0])"
   ]
  },
  {
   "cell_type": "code",
   "execution_count": 402,
   "id": "b905f81b-ea7c-4d91-adc6-d8b6d2ec8eb9",
   "metadata": {},
   "outputs": [],
   "source": [
    "df['Education']=df['Education'].apply(lambda x: 1 if x=='Graduate' else 0)"
   ]
  },
  {
   "cell_type": "code",
   "execution_count": 403,
   "id": "0ef67df2-8d6e-46ba-8904-7fc5ce17d9d3",
   "metadata": {},
   "outputs": [],
   "source": [
    "df['Self_Employed']=df['Self_Employed'].fillna(df['Self_Employed'].mode()[0])\n",
    "df['Self_Employed']=df['Self_Employed'].apply(lambda x: 1 if x=='Yes' else 0)"
   ]
  },
  {
   "cell_type": "code",
   "execution_count": 404,
   "id": "236f61dc-c46e-4c8a-87a6-b51666812713",
   "metadata": {},
   "outputs": [],
   "source": [
    "df['CoapplicantIncome']=df['CoapplicantIncome'].astype(int)"
   ]
  },
  {
   "cell_type": "code",
   "execution_count": 405,
   "id": "1b425a4f-65bb-4afd-ba63-011ea20ee50e",
   "metadata": {},
   "outputs": [],
   "source": [
    "df['LoanAmount']=df['LoanAmount'].fillna(df['LoanAmount'].mean())"
   ]
  },
  {
   "cell_type": "code",
   "execution_count": 406,
   "id": "f5378bab-1dd3-4064-a6a6-d1cab3e94d2f",
   "metadata": {},
   "outputs": [],
   "source": [
    "df['Loan_Amount_Term']=df['Loan_Amount_Term'].fillna(df['Loan_Amount_Term'].mode()[0])\n",
    "df['Loan_Amount_Term']=df['Loan_Amount_Term']/12"
   ]
  },
  {
   "cell_type": "code",
   "execution_count": 407,
   "id": "11f2e581-8504-49fb-a8df-515e9834f1c1",
   "metadata": {},
   "outputs": [],
   "source": [
    "df['Credit_History']=df['Credit_History'].fillna(df['Credit_History'].mode()[0])"
   ]
  },
  {
   "cell_type": "code",
   "execution_count": 408,
   "id": "7cfce961-1e59-4c22-b516-3da24dd4b7d0",
   "metadata": {},
   "outputs": [],
   "source": [
    "import seaborn as sns\n",
    "import matplotlib.pyplot as plt"
   ]
  },
  {
   "cell_type": "code",
   "execution_count": 409,
   "id": "916694bd-3731-4580-9268-3e5bc4ff0ac2",
   "metadata": {},
   "outputs": [],
   "source": [
    "df['Loan_Status']=df['Loan_Status'].apply(lambda x: 1 if x=='Y' else 0)"
   ]
  },
  {
   "cell_type": "code",
   "execution_count": 410,
   "id": "d6397697-bfd4-4e60-a1fb-cfe929dca5c7",
   "metadata": {},
   "outputs": [],
   "source": [
    "df=pd.get_dummies(df,columns=['Property_Area'],drop_first=True)"
   ]
  },
  {
   "cell_type": "code",
   "execution_count": 411,
   "id": "e4b97677-dc6e-49cb-99df-7f62b6767a63",
   "metadata": {},
   "outputs": [
    {
     "data": {
      "text/html": [
       "<div>\n",
       "<style scoped>\n",
       "    .dataframe tbody tr th:only-of-type {\n",
       "        vertical-align: middle;\n",
       "    }\n",
       "\n",
       "    .dataframe tbody tr th {\n",
       "        vertical-align: top;\n",
       "    }\n",
       "\n",
       "    .dataframe thead th {\n",
       "        text-align: right;\n",
       "    }\n",
       "</style>\n",
       "<table border=\"1\" class=\"dataframe\">\n",
       "  <thead>\n",
       "    <tr style=\"text-align: right;\">\n",
       "      <th></th>\n",
       "      <th>Gender</th>\n",
       "      <th>Married</th>\n",
       "      <th>Dependents</th>\n",
       "      <th>Education</th>\n",
       "      <th>Self_Employed</th>\n",
       "      <th>ApplicantIncome</th>\n",
       "      <th>CoapplicantIncome</th>\n",
       "      <th>LoanAmount</th>\n",
       "      <th>Loan_Amount_Term</th>\n",
       "      <th>Credit_History</th>\n",
       "      <th>Loan_Status</th>\n",
       "      <th>Property_Area_Semiurban</th>\n",
       "      <th>Property_Area_Urban</th>\n",
       "    </tr>\n",
       "  </thead>\n",
       "  <tbody>\n",
       "    <tr>\n",
       "      <th>0</th>\n",
       "      <td>1</td>\n",
       "      <td>0</td>\n",
       "      <td>0</td>\n",
       "      <td>1</td>\n",
       "      <td>0</td>\n",
       "      <td>5849</td>\n",
       "      <td>0</td>\n",
       "      <td>146.412162</td>\n",
       "      <td>30.0</td>\n",
       "      <td>1.0</td>\n",
       "      <td>1</td>\n",
       "      <td>False</td>\n",
       "      <td>True</td>\n",
       "    </tr>\n",
       "    <tr>\n",
       "      <th>1</th>\n",
       "      <td>1</td>\n",
       "      <td>1</td>\n",
       "      <td>1</td>\n",
       "      <td>1</td>\n",
       "      <td>0</td>\n",
       "      <td>4583</td>\n",
       "      <td>1508</td>\n",
       "      <td>128.000000</td>\n",
       "      <td>30.0</td>\n",
       "      <td>1.0</td>\n",
       "      <td>0</td>\n",
       "      <td>False</td>\n",
       "      <td>False</td>\n",
       "    </tr>\n",
       "    <tr>\n",
       "      <th>2</th>\n",
       "      <td>1</td>\n",
       "      <td>1</td>\n",
       "      <td>0</td>\n",
       "      <td>1</td>\n",
       "      <td>1</td>\n",
       "      <td>3000</td>\n",
       "      <td>0</td>\n",
       "      <td>66.000000</td>\n",
       "      <td>30.0</td>\n",
       "      <td>1.0</td>\n",
       "      <td>1</td>\n",
       "      <td>False</td>\n",
       "      <td>True</td>\n",
       "    </tr>\n",
       "    <tr>\n",
       "      <th>3</th>\n",
       "      <td>1</td>\n",
       "      <td>1</td>\n",
       "      <td>0</td>\n",
       "      <td>0</td>\n",
       "      <td>0</td>\n",
       "      <td>2583</td>\n",
       "      <td>2358</td>\n",
       "      <td>120.000000</td>\n",
       "      <td>30.0</td>\n",
       "      <td>1.0</td>\n",
       "      <td>1</td>\n",
       "      <td>False</td>\n",
       "      <td>True</td>\n",
       "    </tr>\n",
       "    <tr>\n",
       "      <th>4</th>\n",
       "      <td>1</td>\n",
       "      <td>0</td>\n",
       "      <td>0</td>\n",
       "      <td>1</td>\n",
       "      <td>0</td>\n",
       "      <td>6000</td>\n",
       "      <td>0</td>\n",
       "      <td>141.000000</td>\n",
       "      <td>30.0</td>\n",
       "      <td>1.0</td>\n",
       "      <td>1</td>\n",
       "      <td>False</td>\n",
       "      <td>True</td>\n",
       "    </tr>\n",
       "  </tbody>\n",
       "</table>\n",
       "</div>"
      ],
      "text/plain": [
       "   Gender  Married Dependents  Education  Self_Employed  ApplicantIncome  \\\n",
       "0       1        0          0          1              0             5849   \n",
       "1       1        1          1          1              0             4583   \n",
       "2       1        1          0          1              1             3000   \n",
       "3       1        1          0          0              0             2583   \n",
       "4       1        0          0          1              0             6000   \n",
       "\n",
       "   CoapplicantIncome  LoanAmount  Loan_Amount_Term  Credit_History  \\\n",
       "0                  0  146.412162              30.0             1.0   \n",
       "1               1508  128.000000              30.0             1.0   \n",
       "2                  0   66.000000              30.0             1.0   \n",
       "3               2358  120.000000              30.0             1.0   \n",
       "4                  0  141.000000              30.0             1.0   \n",
       "\n",
       "   Loan_Status  Property_Area_Semiurban  Property_Area_Urban  \n",
       "0            1                    False                 True  \n",
       "1            0                    False                False  \n",
       "2            1                    False                 True  \n",
       "3            1                    False                 True  \n",
       "4            1                    False                 True  "
      ]
     },
     "execution_count": 411,
     "metadata": {},
     "output_type": "execute_result"
    }
   ],
   "source": [
    "df.head()"
   ]
  },
  {
   "cell_type": "code",
   "execution_count": 412,
   "id": "4dba6dde-31f6-44d3-8724-2b8da32002f1",
   "metadata": {},
   "outputs": [],
   "source": [
    "df=df.astype(int)"
   ]
  },
  {
   "cell_type": "code",
   "execution_count": 413,
   "id": "9df9b1b1-0516-4806-9e80-f60b0731ad7c",
   "metadata": {},
   "outputs": [
    {
     "data": {
      "text/plain": [
       "Loan_Status                1.000000\n",
       "Credit_History             0.540556\n",
       "Property_Area_Semiurban    0.136540\n",
       "Married                    0.091478\n",
       "Education                  0.085884\n",
       "CoapplicantIncome          0.059188\n",
       "Property_Area_Urban        0.043621\n",
       "LoanAmount                 0.036345\n",
       "Loan_Amount_Term           0.022549\n",
       "Gender                     0.017987\n",
       "Dependents                 0.010118\n",
       "ApplicantIncome            0.004710\n",
       "Self_Employed              0.003700\n",
       "Name: Loan_Status, dtype: float64"
      ]
     },
     "execution_count": 413,
     "metadata": {},
     "output_type": "execute_result"
    }
   ],
   "source": [
    "dff=df.corr()['Loan_Status'].abs().sort_values(ascending=False)\n",
    "dff"
   ]
  },
  {
   "cell_type": "code",
   "execution_count": 414,
   "id": "60642e92-f94f-4e18-8b4d-9dc5acc0aee1",
   "metadata": {},
   "outputs": [],
   "source": [
    "from sklearn.feature_selection import SelectKBest, chi2"
   ]
  },
  {
   "cell_type": "code",
   "execution_count": 415,
   "id": "c7ced1c8-76ff-4dfd-9815-77cc8f8dea2d",
   "metadata": {},
   "outputs": [],
   "source": [
    "from sklearn.model_selection import train_test_split"
   ]
  },
  {
   "cell_type": "code",
   "execution_count": null,
   "id": "eaf3d479-63b5-4cf8-960d-3edca9071db4",
   "metadata": {},
   "outputs": [],
   "source": [
    "data=df.copy()\n",
    "df['LoanAmountlog']=np.log(df['LoanAmount'])\n",
    "q1=np.quantile(df['LoanAmount'],0.25)\n",
    "q3=np.quantile(df['LoanAmount'],0.75)\n",
    "IQR=q3-q1\n",
    "l_b=q1-1.5*IQR\n",
    "u_b=q3+1.5*IQR\n",
    "data=df[(df['LoanAmount']>=l_b) & (df['LoanAmount']<=u_b)]"
   ]
  },
  {
   "cell_type": "code",
   "execution_count": 570,
   "id": "7b84fd68-f608-4f76-8720-0395c7749e48",
   "metadata": {},
   "outputs": [],
   "source": [
    "x=data.drop('Loan_Status',axis=1)\n",
    "y=data['Loan_Status']"
   ]
  },
  {
   "cell_type": "code",
   "execution_count": 571,
   "id": "ae0284f1-9362-4ff7-90c9-e07ed6b43261",
   "metadata": {},
   "outputs": [],
   "source": [
    "x_train,x_test,y_train,y_test=train_test_split(x,y,test_size=0.2,random_state=0)"
   ]
  },
  {
   "cell_type": "code",
   "execution_count": 516,
   "id": "6a00fcfc-ebeb-49c7-a9f6-14fe88bc20c4",
   "metadata": {},
   "outputs": [],
   "source": [
    "ft=SelectKBest(chi2,k=7)\n",
    "ttrain=ft.fit_transform(x_train,y_train)\n",
    "ttest=ft.transform(x_test)"
   ]
  },
  {
   "cell_type": "code",
   "execution_count": 517,
   "id": "18bb3598-0db9-4151-af10-d4ded77e1591",
   "metadata": {},
   "outputs": [],
   "source": [
    "sc=ft.scores_"
   ]
  },
  {
   "cell_type": "code",
   "execution_count": 518,
   "id": "76f50280-55e9-471f-9053-6cc1aa859528",
   "metadata": {},
   "outputs": [
    {
     "data": {
      "text/html": [
       "<div>\n",
       "<style scoped>\n",
       "    .dataframe tbody tr th:only-of-type {\n",
       "        vertical-align: middle;\n",
       "    }\n",
       "\n",
       "    .dataframe tbody tr th {\n",
       "        vertical-align: top;\n",
       "    }\n",
       "\n",
       "    .dataframe thead th {\n",
       "        text-align: right;\n",
       "    }\n",
       "</style>\n",
       "<table border=\"1\" class=\"dataframe\">\n",
       "  <thead>\n",
       "    <tr style=\"text-align: right;\">\n",
       "      <th></th>\n",
       "      <th>name</th>\n",
       "      <th>score</th>\n",
       "    </tr>\n",
       "  </thead>\n",
       "  <tbody>\n",
       "    <tr>\n",
       "      <th>6</th>\n",
       "      <td>CoapplicantIncome</td>\n",
       "      <td>7542.660756</td>\n",
       "    </tr>\n",
       "    <tr>\n",
       "      <th>7</th>\n",
       "      <td>LoanAmount</td>\n",
       "      <td>38.320143</td>\n",
       "    </tr>\n",
       "    <tr>\n",
       "      <th>9</th>\n",
       "      <td>Credit_History</td>\n",
       "      <td>21.500281</td>\n",
       "    </tr>\n",
       "    <tr>\n",
       "      <th>10</th>\n",
       "      <td>Property_Area_Semiurban</td>\n",
       "      <td>5.486751</td>\n",
       "    </tr>\n",
       "    <tr>\n",
       "      <th>5</th>\n",
       "      <td>ApplicantIncome</td>\n",
       "      <td>3.543442</td>\n",
       "    </tr>\n",
       "    <tr>\n",
       "      <th>8</th>\n",
       "      <td>Loan_Amount_Term</td>\n",
       "      <td>1.252414</td>\n",
       "    </tr>\n",
       "    <tr>\n",
       "      <th>1</th>\n",
       "      <td>Married</td>\n",
       "      <td>0.802414</td>\n",
       "    </tr>\n",
       "    <tr>\n",
       "      <th>3</th>\n",
       "      <td>Education</td>\n",
       "      <td>0.768208</td>\n",
       "    </tr>\n",
       "    <tr>\n",
       "      <th>2</th>\n",
       "      <td>Dependents</td>\n",
       "      <td>0.395798</td>\n",
       "    </tr>\n",
       "    <tr>\n",
       "      <th>11</th>\n",
       "      <td>Property_Area_Urban</td>\n",
       "      <td>0.289762</td>\n",
       "    </tr>\n",
       "    <tr>\n",
       "      <th>12</th>\n",
       "      <td>LoanAmountlog</td>\n",
       "      <td>0.062335</td>\n",
       "    </tr>\n",
       "    <tr>\n",
       "      <th>0</th>\n",
       "      <td>Gender</td>\n",
       "      <td>0.014921</td>\n",
       "    </tr>\n",
       "    <tr>\n",
       "      <th>4</th>\n",
       "      <td>Self_Employed</td>\n",
       "      <td>0.007841</td>\n",
       "    </tr>\n",
       "  </tbody>\n",
       "</table>\n",
       "</div>"
      ],
      "text/plain": [
       "                       name        score\n",
       "6         CoapplicantIncome  7542.660756\n",
       "7                LoanAmount    38.320143\n",
       "9            Credit_History    21.500281\n",
       "10  Property_Area_Semiurban     5.486751\n",
       "5           ApplicantIncome     3.543442\n",
       "8          Loan_Amount_Term     1.252414\n",
       "1                   Married     0.802414\n",
       "3                 Education     0.768208\n",
       "2                Dependents     0.395798\n",
       "11      Property_Area_Urban     0.289762\n",
       "12            LoanAmountlog     0.062335\n",
       "0                    Gender     0.014921\n",
       "4             Self_Employed     0.007841"
      ]
     },
     "execution_count": 518,
     "metadata": {},
     "output_type": "execute_result"
    }
   ],
   "source": [
    "top7=pd.DataFrame({'name':x_train.columns,'score':sc})\n",
    "top7.sort_values(by='score',ascending=False)"
   ]
  },
  {
   "cell_type": "code",
   "execution_count": 421,
   "id": "5ce151d6-f11a-4ea0-ad63-9b460e54a0d2",
   "metadata": {},
   "outputs": [],
   "source": [
    "from sklearn.tree import DecisionTreeClassifier\n",
    "from sklearn.ensemble import RandomForestClassifier"
   ]
  },
  {
   "cell_type": "code",
   "execution_count": 572,
   "id": "20d62187-d629-435c-b0f0-182d9619db27",
   "metadata": {},
   "outputs": [],
   "source": [
    "model=DecisionTreeClassifier(max_depth=2,criterion='entropy')\n",
    "model.fit(x_train,y_train)\n",
    "y_pred=model.predict(x_test)"
   ]
  },
  {
   "cell_type": "code",
   "execution_count": 423,
   "id": "10739c29-e295-40ce-afec-6f72f48c5216",
   "metadata": {},
   "outputs": [],
   "source": [
    "from sklearn.metrics import accuracy_score"
   ]
  },
  {
   "cell_type": "code",
   "execution_count": 573,
   "id": "dc173f63-e421-47d8-851f-489cf52dbec7",
   "metadata": {},
   "outputs": [
    {
     "data": {
      "text/plain": [
       "0.8869565217391304"
      ]
     },
     "execution_count": 573,
     "metadata": {},
     "output_type": "execute_result"
    }
   ],
   "source": [
    "ms=accuracy_score(y_test,y_pred)\n",
    "ms"
   ]
  },
  {
   "cell_type": "code",
   "execution_count": 574,
   "id": "06e3dc87-67a9-4d21-9106-2ae753657905",
   "metadata": {},
   "outputs": [],
   "source": [
    "X=x.drop(columns=['Gender','Self_Employed','Loan_Amount_Term','Education','Dependents','Married'])"
   ]
  },
  {
   "cell_type": "code",
   "execution_count": 575,
   "id": "35a7d420-0d35-4286-a8ff-b7ccea238313",
   "metadata": {},
   "outputs": [],
   "source": [
    "x_train,x_test,y_train,y_test=train_test_split(X,y,test_size=0.2,random_state=0)"
   ]
  },
  {
   "cell_type": "code",
   "execution_count": 581,
   "id": "8ff06f91-f26f-4f0e-9634-d6228a3e4962",
   "metadata": {},
   "outputs": [
    {
     "data": {
      "text/plain": [
       "0.8869565217391304"
      ]
     },
     "execution_count": 581,
     "metadata": {},
     "output_type": "execute_result"
    }
   ],
   "source": [
    "model=DecisionTreeClassifier(max_depth=2,criterion='log_loss')\n",
    "model.fit(x_train,y_train)\n",
    "y_pred=model.predict(x_test)\n",
    "ms=accuracy_score(y_test,y_pred)\n",
    "ms"
   ]
  },
  {
   "cell_type": "code",
   "execution_count": 594,
   "id": "10f6cf2c-7792-4356-ad25-99290453668e",
   "metadata": {},
   "outputs": [
    {
     "data": {
      "text/plain": [
       "0.8869565217391304"
      ]
     },
     "execution_count": 594,
     "metadata": {},
     "output_type": "execute_result"
    }
   ],
   "source": [
    "ml=RandomForestClassifier(n_estimators=150,max_depth=4,max_features=0.5,max_samples=0.7,random_state=2)\n",
    "ml.fit(x_train,y_train)\n",
    "y_pred=ml.predict(x_test)\n",
    "ms=accuracy_score(y_test,y_pred)\n",
    "ms"
   ]
  },
  {
   "cell_type": "code",
   "execution_count": 599,
   "id": "bfba1476-4c08-4f2b-8ac8-035c03aa7fb3",
   "metadata": {},
   "outputs": [],
   "source": [
    "from sklearn.naive_bayes import GaussianNB"
   ]
  },
  {
   "cell_type": "code",
   "execution_count": 601,
   "id": "193dcd73-4de4-4ce4-8cf5-ab97a76896cd",
   "metadata": {},
   "outputs": [],
   "source": [
    "from xgboost import XGBClassifier"
   ]
  },
  {
   "cell_type": "code",
   "execution_count": 608,
   "id": "15795fb5-0b9c-4573-bad0-2a99a269a961",
   "metadata": {},
   "outputs": [
    {
     "data": {
      "text/plain": [
       "0.8869565217391304"
      ]
     },
     "execution_count": 608,
     "metadata": {},
     "output_type": "execute_result"
    }
   ],
   "source": [
    "xg=XGBClassifier(n_estimators=10,max_depth=2)\n",
    "xg.fit(x_train,y_train)\n",
    "y_pred=xg.predict(x_test)\n",
    "ms=accuracy_score(y_test,y_pred)\n",
    "ms"
   ]
  },
  {
   "cell_type": "code",
   "execution_count": null,
   "id": "ecf0b418-4548-432c-bb03-6b897a082e7b",
   "metadata": {},
   "outputs": [],
   "source": [
    "#ml is final model."
   ]
  },
  {
   "cell_type": "code",
   "execution_count": 609,
   "id": "d6305890-1afa-46ac-9743-d26e358930de",
   "metadata": {},
   "outputs": [],
   "source": [
    "import joblib"
   ]
  },
  {
   "cell_type": "code",
   "execution_count": 610,
   "id": "c1bfd864-79e8-414f-8a8a-1dfa28742637",
   "metadata": {},
   "outputs": [
    {
     "data": {
      "text/plain": [
       "['Loan_ml.pkl']"
      ]
     },
     "execution_count": 610,
     "metadata": {},
     "output_type": "execute_result"
    }
   ],
   "source": [
    "joblib.dump(ml,'Loan_ml.pkl')"
   ]
  }
 ],
 "metadata": {
  "kernelspec": {
   "display_name": "Python 3 (ipykernel)",
   "language": "python",
   "name": "python3"
  },
  "language_info": {
   "codemirror_mode": {
    "name": "ipython",
    "version": 3
   },
   "file_extension": ".py",
   "mimetype": "text/x-python",
   "name": "python",
   "nbconvert_exporter": "python",
   "pygments_lexer": "ipython3",
   "version": "3.12.0"
  }
 },
 "nbformat": 4,
 "nbformat_minor": 5
}
